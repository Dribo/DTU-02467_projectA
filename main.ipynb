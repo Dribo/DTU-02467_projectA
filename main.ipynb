{
 "cells": [
  {
   "cell_type": "markdown",
   "source": [
    "# Explainer Notebook"
   ],
   "metadata": {
    "collapsed": false,
    "pycharm": {
     "name": "#%% md\n"
    }
   }
  },
  {
   "cell_type": "markdown",
   "source": [
    "### PART 1: Gather Data\n",
    "- Get all links in initial page\n",
    "- Make dataframe with columns: [URL, Title, List references, List paragraph texts]\n",
    "\n",
    "### PART 2:\n",
    "-"
   ],
   "metadata": {
    "collapsed": false,
    "pycharm": {
     "name": "#%% md\n"
    }
   }
  },
  {
   "cell_type": "code",
   "execution_count": 1,
   "outputs": [],
   "source": [
    "# Options\n",
    "OPTION_PERFORM_SCRAPE = False\n",
    "OPTION_SAVE_FIG = False\n",
    "OPTION_SHOW_PLOT = True"
   ],
   "metadata": {
    "collapsed": false,
    "pycharm": {
     "name": "#%%\n"
    }
   }
  },
  {
   "cell_type": "code",
   "execution_count": 2,
   "outputs": [
    {
     "name": "stderr",
     "output_type": "stream",
     "text": [
      "[nltk_data] Downloading package wordnet to\n",
      "[nltk_data]     /Users/philiphelsted/nltk_data...\n",
      "[nltk_data]   Package wordnet is already up-to-date!\n",
      "[nltk_data] Downloading package stopwords to\n",
      "[nltk_data]     /Users/philiphelsted/nltk_data...\n",
      "[nltk_data]   Package stopwords is already up-to-date!\n",
      "[nltk_data] Downloading package omw-1.4 to\n",
      "[nltk_data]     /Users/philiphelsted/nltk_data...\n",
      "[nltk_data]   Package omw-1.4 is already up-to-date!\n"
     ]
    }
   ],
   "source": [
    "# Imports\n",
    "import requests\n",
    "from bs4 import BeautifulSoup\n",
    "import pandas as pd\n",
    "from util import wiki_util, nlp_util\n",
    "from tqdm import tqdm\n",
    "from ast import literal_eval\n",
    "from collections import defaultdict\n",
    "import networkx as nx\n",
    "from netwulf.interactive import visualize\n",
    "import matplotlib.pyplot as plt\n",
    "import numpy as np\n",
    "import community\n"
   ],
   "metadata": {
    "collapsed": false,
    "pycharm": {
     "name": "#%%\n"
    }
   }
  },
  {
   "cell_type": "code",
   "execution_count": 3,
   "outputs": [],
   "source": [
    "# Static Variables\n",
    "LINK_WIKI_ENGLISH = \"https://en.wikipedia.org/wiki/Cold_War\"\n",
    "LINK_WIKI_GERMAN = \"https://de.wikipedia.org/wiki/Kalter_Krieg\"\n",
    "EVENT_FILTER = [\"conflicts\", \"conflict\", \"events\", \"event\", \"wars\", \"war\", \"coups\", \"coup\",\n",
    "                \"crises\", \"crisis\", \"coup d'état\", \"history\", \"warfare\", \"battle\", \"battles\"\n",
    "                \"invasion\", \"invasions\", \"revolution\", \"revolutions\"]\n",
    "PERSON_FILTER = [\"births\", \"deaths\", \"people\", \"leader\", \"leaders\", \"politicians\", \"politician\",\n",
    "                 \"writer\", \"writers\", \"scientist\", \"scientists\", \"personnel\", \"family\", \"families\",\n",
    "                 \"executive\", \"executives\", \"spy\", \"spies\", \"person\"]"
   ],
   "metadata": {
    "collapsed": false,
    "pycharm": {
     "name": "#%%\n"
    }
   }
  },
  {
   "cell_type": "code",
   "execution_count": 4,
   "outputs": [],
   "source": [
    "def get_content_soup(link_wikipedia):\n",
    "    website = requests.get(link_wikipedia)\n",
    "    content_soup = BeautifulSoup(website.content)\n",
    "    return content_soup\n",
    "\n",
    "def soup_get_title(wiki_content_soup):\n",
    "    head = wiki_content_soup.find(\"h1\", {\"id\": \"firstHeading\"})\n",
    "    return head.text\n",
    "\n",
    "def soup_get_reference_links(wiki_content_soup, language=\"en\"):\n",
    "    p_elements = wiki_content_soup.find_all(\"p\")\n",
    "    links = [a['href'] for p in p_elements for a in p.find_all(\"a\", href=True)]\n",
    "    links = [wiki_util.hyperlink_cleanup(link, language) for link in links]\n",
    "    links = [link for link in links if link != False]\n",
    "    return links\n",
    "\n",
    "def soup_get_category_texts(wiki_content_soup, language=\"en\"):\n",
    "    html_div = wiki_content_soup.find(\"div\", {\"id\": \"mw-normal-catlinks\"})\n",
    "    links_without_categories = html_div.find(\"ul\")\n",
    "    links = links_without_categories.find_all(\"a\")\n",
    "    link_texts = [a.text for a in links]\n",
    "    return link_texts\n",
    "\n",
    "def soup_get_paragraph_texts(wiki_content_soup):\n",
    "    p_elements = wiki_content_soup.find_all(\"p\")\n",
    "    paragraph_texts = [p.text for p in p_elements]\n",
    "    return paragraph_texts\n",
    "\n",
    "def get_all_reference_links(link_wikipedia, language):\n",
    "    website = requests.get(link_wikipedia)\n",
    "    content_soup = BeautifulSoup(website.content)\n",
    "    p_elements = content_soup.find_all(\"p\")\n",
    "    links = [a['href'] for p in p_elements for a in p.find_all(\"a\", href=True)]\n",
    "    links = [wiki_util.hyperlink_cleanup(link, language) for link in links]\n",
    "    links = [link for link in links if link != False]\n",
    "    return links\n"
   ],
   "metadata": {
    "collapsed": false,
    "pycharm": {
     "name": "#%%\n"
    }
   }
  },
  {
   "cell_type": "code",
   "execution_count": 5,
   "outputs": [],
   "source": [
    "# Scrape English version\n",
    "if OPTION_PERFORM_SCRAPE:\n",
    "    links_to_scan = get_all_reference_links(LINK_WIKI_ENGLISH, \"en\") + [LINK_WIKI_ENGLISH]\n",
    "    links_to_scan = sorted(list(set(links_to_scan)))\n",
    "    data = []\n",
    "    for url in tqdm(links_to_scan):\n",
    "        soup = get_content_soup(url)\n",
    "        title = soup_get_title(soup)\n",
    "        list_references = soup_get_reference_links(soup, language=\"en\")\n",
    "        list_paragraph_texts = soup_get_paragraph_texts(soup)\n",
    "        list_category_texts = soup_get_category_texts(soup)\n",
    "        data.append([url, title, list_references, list_paragraph_texts, list_category_texts])\n"
   ],
   "metadata": {
    "collapsed": false,
    "pycharm": {
     "name": "#%%\n"
    }
   }
  },
  {
   "cell_type": "code",
   "execution_count": 6,
   "outputs": [],
   "source": [
    "# Save English version\n",
    "if OPTION_PERFORM_SCRAPE:\n",
    "    COLUMN_NAMES = ['URL', 'TITLE', 'LIST_REFERENCES', 'LIST_PARAGRAPH_TEXTS', \"CATEGORIES\"]\n",
    "    df_wikipedia_english = pd.DataFrame(data, columns=COLUMN_NAMES)\n",
    "    df_wikipedia_english = df_wikipedia_english.set_index('URL')\n",
    "    df_wikipedia_english.to_csv('./data/wiki_english.csv')"
   ],
   "metadata": {
    "collapsed": false,
    "pycharm": {
     "name": "#%%\n"
    }
   }
  },
  {
   "cell_type": "code",
   "execution_count": 7,
   "outputs": [],
   "source": [
    "# Scrape German Version\n",
    "if OPTION_PERFORM_SCRAPE:\n",
    "    links_to_scan = get_all_reference_links(LINK_WIKI_GERMAN, language=\"de\") + [LINK_WIKI_GERMAN]\n",
    "    links_to_scan = sorted(list(set(links_to_scan)))\n",
    "    data = []\n",
    "    for url in tqdm(links_to_scan):\n",
    "        soup = get_content_soup(url)\n",
    "        title = soup_get_title(soup)\n",
    "        list_references = soup_get_reference_links(soup, language=\"de\")\n",
    "        list_paragraph_texts = soup_get_paragraph_texts(soup)\n",
    "        list_category_texts = soup_get_category_texts(soup)\n",
    "        data.append([url, title, list_references, list_paragraph_texts, list_category_texts])\n"
   ],
   "metadata": {
    "collapsed": false,
    "pycharm": {
     "name": "#%%\n"
    }
   }
  },
  {
   "cell_type": "code",
   "execution_count": 8,
   "outputs": [],
   "source": [
    "# Save German Version\n",
    "if OPTION_PERFORM_SCRAPE:\n",
    "    COLUMN_NAMES = ['URL', 'TITLE', 'LIST_REFERENCES', 'LIST_PARAGRAPH_TEXTS', \"CATEGORIES\"]\n",
    "    df_wikipedia_german = pd.DataFrame(data, columns=COLUMN_NAMES)\n",
    "    df_wikipedia_german = df_wikipedia_german.set_index('URL')\n",
    "    df_wikipedia_german.to_csv('./data/wiki_german.csv')"
   ],
   "metadata": {
    "collapsed": false,
    "pycharm": {
     "name": "#%%\n"
    }
   }
  },
  {
   "cell_type": "markdown",
   "source": [
    "### Load data"
   ],
   "metadata": {
    "collapsed": false,
    "pycharm": {
     "name": "#%% md\n"
    }
   }
  },
  {
   "cell_type": "code",
   "execution_count": 9,
   "outputs": [],
   "source": [
    "#df_wikipedia_english = pd.read_csv('./data/wiki_english.csv', index_col='URL', converters={'LIST_REFERENCES': literal_eval, 'LIST_PARAGRAPH_TEXTS': literal_eval, \"CATEGORIES\": literal_eval})\n",
    "\n",
    "#df_wikipedia_english['TYPE'] = df_wikipedia_english_fromCSV.apply(lambda x: wiki_util.get_category(x['CATEGORIES'], EVENT_FILTER, PERSON_FILTER), axis=1)\n",
    "\n",
    "df_wikipedia_english = pd.read_csv('./data/wiki_english_with_tokens.csv', index_col='URL', converters={'LIST_REFERENCES': literal_eval, 'LIST_PARAGRAPH_TEXTS': literal_eval, \"CATEGORIES\": literal_eval, \"TOKENS\": literal_eval, \"UNIQUE_TOKENS\": literal_eval})\n",
    "\n",
    "#df_wikipedia_german_fromCSV = pd.read_csv('./data/wiki_german.csv', index_col='URL', converters={'LIST_REFERENCES': literal_eval, 'LIST_PARAGRAPH_TEXTS': literal_eval, \"CATEGORIES\": literal_eval})\n",
    "\n",
    "\n",
    "#df_wikipedia_german_fromCSV['TYPE'] = df_wikipedia_german_fromCSV.apply(lambda x: wiki_util.get_category(x['CATEGORIES'], EVENT_FILTER, PERSON_FILTER), axis=1)\n",
    "\n",
    "# Virker til en vis grænse, nogle småting der ikke bliver fanget ordenligt. None filteret virker bedst."
   ],
   "metadata": {
    "collapsed": false,
    "pycharm": {
     "name": "#%%\n"
    }
   }
  },
  {
   "cell_type": "code",
   "execution_count": 25,
   "outputs": [],
   "source": [
    "def get_graph_stats(graph):\n",
    "    def format_print(str1, str2):\n",
    "        print(\"{:>15}\".format(str1), \"{:>15}\".format(str2))\n",
    "\n",
    "    if graph.is_directed():\n",
    "        in_degrees = [x[1] for x in graph.in_degree]\n",
    "        out_degrees = [x[1] for x in graph.out_degree]\n",
    "    else:\n",
    "        degrees = [x[1] for x in graph.degree]\n",
    "\n",
    "    format_print('Statistic', 'Value')\n",
    "    format_print('N Nodes', len(graph.nodes))\n",
    "    format_print('N Edges', len(graph.edges))\n",
    "    if graph.is_directed():\n",
    "        format_print('Max in_degree', max(in_degrees))\n",
    "        format_print('Min in_degree', min(in_degrees))\n",
    "        format_print('Max out_degree', max(out_degrees))\n",
    "        format_print('Min out_degree', min(out_degrees))\n",
    "        format_print('Mean in_degree', \"{: 2.2f}\".format(np.mean(in_degrees)))\n",
    "        format_print('Mean out_degree', \"{: 2.2f}\".format(np.mean(out_degrees)))\n",
    "    else:\n",
    "        format_print('Max degree', max(degrees))\n",
    "        format_print('Min degree', min(degrees))\n",
    "        format_print('Mean degree', \"{: 2.2f}\".format(np.mean(degrees)))\n",
    "\n",
    "def produce_communities(graph, resolution=0.3):\n",
    "    list_communities = nx.community.louvain_communities(graph, seed=1, resolution=resolution)\n",
    "    #list_communities = community.best_partition(subgraph)\n",
    "\n",
    "    print(len(list_communities))\n",
    "\n",
    "    nice_colors = ['#0fdbff', '#0fdbff', '#ff0fb3', '#5e3582', '#ffe70f', '#1e9648', '#1e6296', '#4a1e96', '#961e6a', '#51888c']\n",
    "\n",
    "    DEFAULT_COLOR = '#8c8c8c'\n",
    "    partition_colors = defaultdict(lambda: DEFAULT_COLOR)\n",
    "\n",
    "    for i in range(len(nice_colors)):\n",
    "        partition_colors[i] = nice_colors[i]\n",
    "\n",
    "    for node in graph.nodes:\n",
    "        for i in range(len(list_communities)):\n",
    "            if node in list_communities[i]:\n",
    "                graph.nodes[node]['color'] = partition_colors[i]\n",
    "                graph.nodes[node]['community'] = i\n",
    "\n",
    "    return graph, len(list_communities)\n"
   ],
   "metadata": {
    "collapsed": false,
    "pycharm": {
     "name": "#%%\n"
    }
   }
  },
  {
   "cell_type": "code",
   "execution_count": 11,
   "outputs": [
    {
     "name": "stderr",
     "output_type": "stream",
     "text": [
      "100%|██████████| 859/859 [00:01<00:00, 530.40it/s]\n",
      "100%|██████████| 859/859 [00:14<00:00, 58.50it/s] \n",
      "100%|██████████| 859/859 [00:01<00:00, 554.70it/s]\n",
      "100%|██████████| 859/859 [00:00<00:00, 2594.69it/s]\n"
     ]
    }
   ],
   "source": [
    "en_edge_list = wiki_util.get_edge_list(df_wikipedia_english)\n",
    "en_edge_list_directed = wiki_util.get_edge_list(df_wikipedia_english, directed=True)\n",
    "\n",
    "graph_en = nx.Graph()\n",
    "graph_en.add_weighted_edges_from(en_edge_list)\n",
    "graph_en = wiki_util.generate_graph_with_node_attributes(graph_en, df_wikipedia_english)\n",
    "\n",
    "graph_en_directed = nx.DiGraph()\n",
    "graph_en_directed.add_weighted_edges_from(en_edge_list_directed)\n",
    "graph_en_directed = wiki_util.generate_graph_with_node_attributes(graph_en_directed, df_wikipedia_english)"
   ],
   "metadata": {
    "collapsed": false,
    "pycharm": {
     "name": "#%%\n"
    }
   }
  },
  {
   "cell_type": "code",
   "execution_count": 12,
   "outputs": [
    {
     "data": {
      "text/plain": "<Figure size 640x480 with 2 Axes>",
      "image/png": "[encoded data removed]"
     },
     "metadata": {},
     "output_type": "display_data"
    }
   ],
   "source": [
    "\n",
    "G = graph_en_directed\n",
    "\n",
    "\n",
    "if OPTION_SHOW_PLOT:\n",
    "    in_degrees = [x[1] for x in G.in_degree]\n",
    "    out_degrees = [x[1] for x in G.out_degree]\n",
    "    bins = np.linspace(min(in_degrees), max(in_degrees), 50)\n",
    "\n",
    "    mean = np.mean(in_degrees)\n",
    "    median = np.median(in_degrees)\n",
    "\n",
    "    hist, edges = np.histogram(in_degrees, bins=bins)\n",
    "    x = (edges[1:] + edges[:-1])/2\n",
    "    width = bins[1] - bins[0]\n",
    "    fig, axs = plt.subplots(2)\n",
    "    axs[0].bar(x, hist, width=width*0.9)\n",
    "\n",
    "    axs[0].set_xlabel('In-Degrees')\n",
    "    axs[0].set_ylabel('Articles')\n",
    "    axs[0].set_yscale('log')\n",
    "    axs[0].set_xticks(range(0, 501, 50))\n",
    "    axs[0].set_yticks([10**0, 10**1, 10**2, max(hist)], labels=[10**0, 10**1, 10**2, max(hist)])\n",
    "    axs[0].axline((mean, 0), (mean, max(in_degrees)), color='red', label='mean in-degrees')\n",
    "    axs[0].axline((median, 0), (median, max(in_degrees)), linestyle='--', color='red', label='median in-degrees')\n",
    "    axs[0].legend()\n",
    "\n",
    "    bins = np.linspace(min(out_degrees), max(out_degrees), 50)\n",
    "\n",
    "    mean = np.mean(out_degrees)\n",
    "    median = np.median(out_degrees)\n",
    "\n",
    "    hist, edges = np.histogram(out_degrees, bins=bins)\n",
    "    x = (edges[1:] + edges[:-1])/2\n",
    "    width = bins[1] - bins[0]\n",
    "    axs[1].bar(x, hist, width=width*0.9)\n",
    "\n",
    "    axs[1].set_xlabel('Out-Degrees')\n",
    "    axs[1].set_ylabel('Articles')\n",
    "    axs[1].set_yscale('log')\n",
    "    axs[1].set_xticks(range(0, int(max(list(bins))), 60))\n",
    "    axs[1].set_yticks([10**0, 10**1, 10**2, max(hist)], labels=[10**0, 10**1, 10**2, max(hist)])\n",
    "    axs[1].axline((mean, 0), (mean, max(out_degrees)), color='red', label='mean Out-degrees')\n",
    "    axs[1].axline((median, 0), (median, max(out_degrees)), linestyle='--', color='red', label='median Out-degrees')\n",
    "    axs[1].legend()\n",
    "    fig.tight_layout(pad=0.5)\n",
    "    plt.show()\n",
    "    if OPTION_SAVE_FIG:\n",
    "        fig.savefig(\"./images/degree_distributions.png\")"
   ],
   "metadata": {
    "collapsed": false,
    "pycharm": {
     "name": "#%%\n"
    }
   }
  },
  {
   "cell_type": "markdown",
   "source": [
    "# TK IDF"
   ],
   "metadata": {
    "collapsed": false,
    "pycharm": {
     "name": "#%% md\n"
    }
   }
  },
  {
   "cell_type": "code",
   "execution_count": 13,
   "outputs": [
    {
     "data": {
      "text/plain": "                                                                               TITLE  \\\nURL                                                                                    \nhttps://en.wikipedia.org/wiki/1,000,000,000_(nu...                     1,000,000,000   \nhttps://en.wikipedia.org/wiki/17th_parallel_north                17th parallel north   \nhttps://en.wikipedia.org/wiki/1947_Polish_legis...  1947 Polish legislative election   \nhttps://en.wikipedia.org/wiki/1948_Czechoslovak...     1948 Czechoslovak coup d'état   \nhttps://en.wikipedia.org/wiki/1948_Italian_gene...     1948 Italian general election   \n...                                                                              ...   \nhttps://en.wikipedia.org/wiki/Yekaterinburg                            Yekaterinburg   \nhttps://en.wikipedia.org/wiki/Yom_Kippur_War                          Yom Kippur War   \nhttps://en.wikipedia.org/wiki/Yugoslavia                                  Yugoslavia   \nhttps://en.wikipedia.org/wiki/Yuri_Andropov                            Yuri Andropov   \nhttps://en.wikipedia.org/wiki/Zhou_Enlai                                  Zhou Enlai   \n\n                                                                                      LIST_REFERENCES  \\\nURL                                                                                                     \nhttps://en.wikipedia.org/wiki/1,000,000,000_(nu...  [https://en.wikipedia.org/wiki/Billion, https:...   \nhttps://en.wikipedia.org/wiki/17th_parallel_north   [https://en.wikipedia.org/wiki/Circle_of_latit...   \nhttps://en.wikipedia.org/wiki/1947_Polish_legis...  [https://en.wikipedia.org/wiki/Edward_Os%C3%B3...   \nhttps://en.wikipedia.org/wiki/1948_Czechoslovak...  [https://en.wikipedia.org/wiki/Communist_Party...   \nhttps://en.wikipedia.org/wiki/1948_Italian_gene...  [https://en.wikipedia.org/wiki/Alcide_De_Gaspe...   \n...                                                                                               ...   \nhttps://en.wikipedia.org/wiki/Yekaterinburg         [https://en.wikipedia.org/wiki/Help:IPA/Englis...   \nhttps://en.wikipedia.org/wiki/Yom_Kippur_War        [https://en.wikipedia.org/wiki/Israel, https:/...   \nhttps://en.wikipedia.org/wiki/Yugoslavia            [https://en.wikipedia.org/wiki/Geographic_coor...   \nhttps://en.wikipedia.org/wiki/Yuri_Andropov         [https://en.wikipedia.org/wiki/Old_Style_and_N...   \nhttps://en.wikipedia.org/wiki/Zhou_Enlai            [https://en.wikipedia.org/wiki/Simplified_Chin...   \n\n                                                                                 LIST_PARAGRAPH_TEXTS  \\\nURL                                                                                                     \nhttps://en.wikipedia.org/wiki/1,000,000,000_(nu...  [1,000,000,000 (one billion, short scale; one ...   \nhttps://en.wikipedia.org/wiki/17th_parallel_north   [The 17th parallel north is a circle of latitu...   \nhttps://en.wikipedia.org/wiki/1947_Polish_legis...  [\\n, Edward Osóbka-Morawski\\nPPS\\n, Józef Cyra...   \nhttps://en.wikipedia.org/wiki/1948_Czechoslovak...  [\\n, In late February 1948, the Communist Part...   \nhttps://en.wikipedia.org/wiki/1948_Italian_gene...  [\\n, Alcide De Gasperi\\nChristian Democracy\\n,...   \n...                                                                                               ...   \nhttps://en.wikipedia.org/wiki/Yekaterinburg         [\\n, Yekaterinburg (/jɪˈkætərɪnbɜːrɡ/ yih-KAT-...   \nhttps://en.wikipedia.org/wiki/Yom_Kippur_War        [\\n, Egyptian front\\n, International front\\n, ...   \nhttps://en.wikipedia.org/wiki/Yugoslavia            [\\n, Coordinates: 44°49′N 20°27′E﻿ / ﻿44.817°N...   \nhttps://en.wikipedia.org/wiki/Yuri_Andropov         [\\n, Yuri Vladimirovich Andropov[a] (15 June [...   \nhttps://en.wikipedia.org/wiki/Zhou_Enlai            [\\n, Zhou Enlai (Chinese: 周恩来; pinyin: Zhōu Ēn...   \n\n                                                                                           CATEGORIES  \\\nURL                                                                                                     \nhttps://en.wikipedia.org/wiki/1,000,000,000_(nu...                          [Integers, Large numbers]   \nhttps://en.wikipedia.org/wiki/17th_parallel_north                               [Circles of latitude]   \nhttps://en.wikipedia.org/wiki/1947_Polish_legis...  [Electoral fraud in Poland, 1947 elections in ...   \nhttps://en.wikipedia.org/wiki/1948_Czechoslovak...  [Cold War conflicts, 1948 in Czechoslovakia, P...   \nhttps://en.wikipedia.org/wiki/1948_Italian_gene...  [1948 elections in Europe, 1948 elections in I...   \n...                                                                                               ...   \nhttps://en.wikipedia.org/wiki/Yekaterinburg         [Yekaterinburg, Yekaterinburgsky Uyezd, Popula...   \nhttps://en.wikipedia.org/wiki/Yom_Kippur_War        [Yom Kippur War, 1973 in Egypt, Conflicts in 1...   \nhttps://en.wikipedia.org/wiki/Yugoslavia            [Yugoslavia, Former countries in the Balkans, ...   \nhttps://en.wikipedia.org/wiki/Yuri_Andropov         [1914 births, 1984 deaths, Ambassadors of the ...   \nhttps://en.wikipedia.org/wiki/Zhou_Enlai            [Zhou Enlai, Premiers of the People's Republic...   \n\n                                                      TYPE  \\\nURL                                                          \nhttps://en.wikipedia.org/wiki/1,000,000,000_(nu...    none   \nhttps://en.wikipedia.org/wiki/17th_parallel_north     none   \nhttps://en.wikipedia.org/wiki/1947_Polish_legis...   event   \nhttps://en.wikipedia.org/wiki/1948_Czechoslovak...   event   \nhttps://en.wikipedia.org/wiki/1948_Italian_gene...   event   \n...                                                    ...   \nhttps://en.wikipedia.org/wiki/Yekaterinburg          event   \nhttps://en.wikipedia.org/wiki/Yom_Kippur_War         event   \nhttps://en.wikipedia.org/wiki/Yugoslavia              none   \nhttps://en.wikipedia.org/wiki/Yuri_Andropov         person   \nhttps://en.wikipedia.org/wiki/Zhou_Enlai            person   \n\n                                                                                               TOKENS  \\\nURL                                                                                                     \nhttps://en.wikipedia.org/wiki/1,000,000,000_(nu...  [one, billion, short, scale, one, thousand, mi...   \nhttps://en.wikipedia.org/wiki/17th_parallel_north   [th, parallel, north, circle, latitude, degree...   \nhttps://en.wikipedia.org/wiki/1947_Polish_legis...  [edward, o, bka, morawski, pps, j, zef, cyrank...   \nhttps://en.wikipedia.org/wiki/1948_Czechoslovak...  [late, february, communist, party, czechoslova...   \nhttps://en.wikipedia.org/wiki/1948_Italian_gene...  [alcide, de, gasperi, christian, democracy, al...   \n...                                                                                               ...   \nhttps://en.wikipedia.org/wiki/Yekaterinburg         [yekaterinburg, j, k, r, nb, r, yih, kat, r, b...   \nhttps://en.wikipedia.org/wiki/Yom_Kippur_War        [egyptian, front, international, front, yom, k...   \nhttps://en.wikipedia.org/wiki/Yugoslavia            [coordinate, n, e, n, e, yugoslavia, ju, sl, v...   \nhttps://en.wikipedia.org/wiki/Yuri_Andropov         [yuri, vladimirovich, andropov, june, june, fe...   \nhttps://en.wikipedia.org/wiki/Zhou_Enlai            [zhou, enlai, chinese, pinyin, zh, u, nl, wade...   \n\n                                                                                        UNIQUE_TOKENS  \nURL                                                                                                    \nhttps://en.wikipedia.org/wiki/1,000,000,000_(nu...  {bil, evidence, asian, term, whereas, yard, va...  \nhttps://en.wikipedia.org/wiki/17th_parallel_north   {west, vietnamese, particularly, tuy, line, ri...  \nhttps://en.wikipedia.org/wiki/1947_Polish_legis...  {new, predict, enough, allowed, aron, pretense...  \nhttps://en.wikipedia.org/wiki/1948_Czechoslovak...  {endangering, determination, reached, step, of...  \nhttps://en.wikipedia.org/wiki/1948_Italian_gene...  {determination, new, atom, term, pointed, bent...  \n...                                                                                               ...  \nhttps://en.wikipedia.org/wiki/Yekaterinburg         {religion, reached, zoo, veteran, unesco, enou...  \nhttps://en.wikipedia.org/wiki/Yom_Kippur_War        {squad, reason, dog, occupying, reached, conta...  \nhttps://en.wikipedia.org/wiki/Yugoslavia            {reason, religion, occupying, determination, l...  \nhttps://en.wikipedia.org/wiki/Yuri_Andropov         {squad, reason, mistake, mother, term, bent, a...  \nhttps://en.wikipedia.org/wiki/Zhou_Enlai            {inquired, lion, squad, reason, occupying, con...  \n\n[859 rows x 7 columns]",
      "text/html": "<div>\n<style scoped>\n    .dataframe tbody tr th:only-of-type {\n        vertical-align: middle;\n    }\n\n    .dataframe tbody tr th {\n        vertical-align: top;\n    }\n\n    .dataframe thead th {\n        text-align: right;\n    }\n</style>\n<table border=\"1\" class=\"dataframe\">\n  <thead>\n    <tr style=\"text-align: right;\">\n      <th></th>\n      <th>TITLE</th>\n      <th>LIST_REFERENCES</th>\n      <th>LIST_PARAGRAPH_TEXTS</th>\n      <th>CATEGORIES</th>\n      <th>TYPE</th>\n      <th>TOKENS</th>\n      <th>UNIQUE_TOKENS</th>\n    </tr>\n    <tr>\n      <th>URL</th>\n      <th></th>\n      <th></th>\n      <th></th>\n      <th></th>\n      <th></th>\n      <th></th>\n      <th></th>\n    </tr>\n  </thead>\n  <tbody>\n    <tr>\n      <th>https://en.wikipedia.org/wiki/1,000,000,000_(number)</th>\n      <td>1,000,000,000</td>\n      <td>[https://en.wikipedia.org/wiki/Billion, https:...</td>\n      <td>[1,000,000,000 (one billion, short scale; one ...</td>\n      <td>[Integers, Large numbers]</td>\n      <td>none</td>\n      <td>[one, billion, short, scale, one, thousand, mi...</td>\n      <td>{bil, evidence, asian, term, whereas, yard, va...</td>\n    </tr>\n    <tr>\n      <th>https://en.wikipedia.org/wiki/17th_parallel_north</th>\n      <td>17th parallel north</td>\n      <td>[https://en.wikipedia.org/wiki/Circle_of_latit...</td>\n      <td>[The 17th parallel north is a circle of latitu...</td>\n      <td>[Circles of latitude]</td>\n      <td>none</td>\n      <td>[th, parallel, north, circle, latitude, degree...</td>\n      <td>{west, vietnamese, particularly, tuy, line, ri...</td>\n    </tr>\n    <tr>\n      <th>https://en.wikipedia.org/wiki/1947_Polish_legislative_election</th>\n      <td>1947 Polish legislative election</td>\n      <td>[https://en.wikipedia.org/wiki/Edward_Os%C3%B3...</td>\n      <td>[\\n, Edward Osóbka-Morawski\\nPPS\\n, Józef Cyra...</td>\n      <td>[Electoral fraud in Poland, 1947 elections in ...</td>\n      <td>event</td>\n      <td>[edward, o, bka, morawski, pps, j, zef, cyrank...</td>\n      <td>{new, predict, enough, allowed, aron, pretense...</td>\n    </tr>\n    <tr>\n      <th>https://en.wikipedia.org/wiki/1948_Czechoslovak_coup_d%27%C3%A9tat</th>\n      <td>1948 Czechoslovak coup d'état</td>\n      <td>[https://en.wikipedia.org/wiki/Communist_Party...</td>\n      <td>[\\n, In late February 1948, the Communist Part...</td>\n      <td>[Cold War conflicts, 1948 in Czechoslovakia, P...</td>\n      <td>event</td>\n      <td>[late, february, communist, party, czechoslova...</td>\n      <td>{endangering, determination, reached, step, of...</td>\n    </tr>\n    <tr>\n      <th>https://en.wikipedia.org/wiki/1948_Italian_general_election</th>\n      <td>1948 Italian general election</td>\n      <td>[https://en.wikipedia.org/wiki/Alcide_De_Gaspe...</td>\n      <td>[\\n, Alcide De Gasperi\\nChristian Democracy\\n,...</td>\n      <td>[1948 elections in Europe, 1948 elections in I...</td>\n      <td>event</td>\n      <td>[alcide, de, gasperi, christian, democracy, al...</td>\n      <td>{determination, new, atom, term, pointed, bent...</td>\n    </tr>\n    <tr>\n      <th>...</th>\n      <td>...</td>\n      <td>...</td>\n      <td>...</td>\n      <td>...</td>\n      <td>...</td>\n      <td>...</td>\n      <td>...</td>\n    </tr>\n    <tr>\n      <th>https://en.wikipedia.org/wiki/Yekaterinburg</th>\n      <td>Yekaterinburg</td>\n      <td>[https://en.wikipedia.org/wiki/Help:IPA/Englis...</td>\n      <td>[\\n, Yekaterinburg (/jɪˈkætərɪnbɜːrɡ/ yih-KAT-...</td>\n      <td>[Yekaterinburg, Yekaterinburgsky Uyezd, Popula...</td>\n      <td>event</td>\n      <td>[yekaterinburg, j, k, r, nb, r, yih, kat, r, b...</td>\n      <td>{religion, reached, zoo, veteran, unesco, enou...</td>\n    </tr>\n    <tr>\n      <th>https://en.wikipedia.org/wiki/Yom_Kippur_War</th>\n      <td>Yom Kippur War</td>\n      <td>[https://en.wikipedia.org/wiki/Israel, https:/...</td>\n      <td>[\\n, Egyptian front\\n, International front\\n, ...</td>\n      <td>[Yom Kippur War, 1973 in Egypt, Conflicts in 1...</td>\n      <td>event</td>\n      <td>[egyptian, front, international, front, yom, k...</td>\n      <td>{squad, reason, dog, occupying, reached, conta...</td>\n    </tr>\n    <tr>\n      <th>https://en.wikipedia.org/wiki/Yugoslavia</th>\n      <td>Yugoslavia</td>\n      <td>[https://en.wikipedia.org/wiki/Geographic_coor...</td>\n      <td>[\\n, Coordinates: 44°49′N 20°27′E﻿ / ﻿44.817°N...</td>\n      <td>[Yugoslavia, Former countries in the Balkans, ...</td>\n      <td>none</td>\n      <td>[coordinate, n, e, n, e, yugoslavia, ju, sl, v...</td>\n      <td>{reason, religion, occupying, determination, l...</td>\n    </tr>\n    <tr>\n      <th>https://en.wikipedia.org/wiki/Yuri_Andropov</th>\n      <td>Yuri Andropov</td>\n      <td>[https://en.wikipedia.org/wiki/Old_Style_and_N...</td>\n      <td>[\\n, Yuri Vladimirovich Andropov[a] (15 June [...</td>\n      <td>[1914 births, 1984 deaths, Ambassadors of the ...</td>\n      <td>person</td>\n      <td>[yuri, vladimirovich, andropov, june, june, fe...</td>\n      <td>{squad, reason, mistake, mother, term, bent, a...</td>\n    </tr>\n    <tr>\n      <th>https://en.wikipedia.org/wiki/Zhou_Enlai</th>\n      <td>Zhou Enlai</td>\n      <td>[https://en.wikipedia.org/wiki/Simplified_Chin...</td>\n      <td>[\\n, Zhou Enlai (Chinese: 周恩来; pinyin: Zhōu Ēn...</td>\n      <td>[Zhou Enlai, Premiers of the People's Republic...</td>\n      <td>person</td>\n      <td>[zhou, enlai, chinese, pinyin, zh, u, nl, wade...</td>\n      <td>{inquired, lion, squad, reason, occupying, con...</td>\n    </tr>\n  </tbody>\n</table>\n<p>859 rows × 7 columns</p>\n</div>"
     },
     "execution_count": 13,
     "metadata": {},
     "output_type": "execute_result"
    }
   ],
   "source": [
    "df_wikipedia_english"
   ],
   "metadata": {
    "collapsed": false,
    "pycharm": {
     "name": "#%%\n"
    }
   }
  },
  {
   "cell_type": "code",
   "execution_count": 14,
   "outputs": [],
   "source": [
    "def get_tokens_for_community(graph, community):\n",
    "    all_tokens = []\n",
    "    unique_tokens = []\n",
    "    for (n, d) in graph.nodes(data=True):\n",
    "        if d['community'] == community:\n",
    "            all_tokens += d['TOKENS']\n",
    "            unique_tokens += (d['UNIQUE_TOKENS'])\n",
    "\n",
    "    return all_tokens, set(unique_tokens)"
   ],
   "metadata": {
    "collapsed": false,
    "pycharm": {
     "name": "#%%\n"
    }
   }
  },
  {
   "cell_type": "code",
   "execution_count": 56,
   "outputs": [
    {
     "name": "stdout",
     "output_type": "stream",
     "text": [
      "14\n",
      "14\n"
     ]
    }
   ],
   "source": [
    "graph_en = nx.Graph()\n",
    "graph_en.add_weighted_edges_from(en_edge_list)\n",
    "graph_en = wiki_util.generate_graph_with_node_attributes(graph_en, df_wikipedia_english)\n",
    "graph_en = wiki_util.get_subgraph(graph_en, attribute='TYPE', values=['person'])\n",
    "\n",
    "graph_en_communities, communities = produce_communities(graph_en, resolution=1)\n",
    "print(communities)\n",
    "\n",
    "community_tokens = [get_tokens_for_community(graph_en_communities, c) for c in range(communities)]"
   ],
   "metadata": {
    "collapsed": false,
    "pycharm": {
     "name": "#%%\n"
    }
   }
  },
  {
   "cell_type": "code",
   "execution_count": 57,
   "outputs": [
    {
     "name": "stdout",
     "output_type": "stream",
     "text": [
      "Community 0\n",
      "81\n",
      "Community 1\n",
      "6307\n",
      "Community 2\n",
      "140\n",
      "Community 3\n",
      "10668\n",
      "Community 4\n",
      "752\n",
      "Community 5\n",
      "331\n",
      "Community 6\n",
      "163\n",
      "Community 7\n",
      "5819\n",
      "Community 8\n",
      "92\n",
      "Community 9\n",
      "13759\n",
      "Community 10\n",
      "19404\n",
      "Community 11\n",
      "2686\n",
      "Community 12\n",
      "621\n",
      "Community 13\n",
      "16800\n"
     ]
    }
   ],
   "source": [
    "\n",
    "for i in range(communities):\n",
    "    print(\"Community\", i)\n",
    "    (all_tokens, unique_tokens) = community_tokens[i]\n",
    "    print(len(unique_tokens))"
   ],
   "metadata": {
    "collapsed": false,
    "pycharm": {
     "name": "#%%\n"
    }
   }
  },
  {
   "cell_type": "code",
   "execution_count": 62,
   "outputs": [
    {
     "data": {
      "text/plain": "{'oriental': 3.9512437185814275,\n 'run': 3.9512437185814275,\n 'inaugural': 3.9512437185814275,\n 'especially': 3.9512437185814275,\n 'new': 3.9512437185814275,\n 'shlaim': 3.9512437185814275,\n 'part': 3.9512437185814275,\n 'gave': 3.9512437185814275,\n 'h': 2.4471663218051534,\n 'bbc': 3.9512437185814275,\n 'war': 3.545778610473263,\n 'blair': 3.9512437185814275,\n 'expert': 3.9512437185814275,\n 'november': 3.9512437185814275,\n 'include': 3.9512437185814275,\n 'tripp': 2.8526314299133175,\n 'middle': 3.0349529867072724,\n 'foreign': 3.9512437185814275,\n 'politics': 3.0349529867072724,\n 'islamic': 3.9512437185814275,\n 'advise': 3.9512437185814275,\n 'school': 3.9512437185814275,\n 'international': 3.9512437185814275,\n 'street': 3.9512437185814275,\n 'author': 3.9512437185814275,\n 'history': 3.9512437185814275,\n 'broadcaster': 3.9512437185814275,\n 'african': 3.9512437185814275,\n 'world': 3.9512437185814275,\n 'postgraduate': 3.9512437185814275,\n 'team': 3.9512437185814275,\n 'academic': 3.9512437185814275,\n 'specializing': 3.9512437185814275,\n 'guardian': 3.9512437185814275,\n 'oxford': 3.9512437185814275,\n 'well': 3.9512437185814275,\n 'visited': 3.9512437185814275,\n 'area': 3.9512437185814275,\n 'prime': 3.9512437185814275,\n 'including': 3.9512437185814275,\n 'research': 3.9512437185814275,\n 'government': 3.9512437185814275,\n 'main': 3.9512437185814275,\n 'downing': 3.9512437185814275,\n 'class': 3.9512437185814275,\n 'near': 3.9512437185814275,\n 'affair': 3.9512437185814275,\n 'thought': 3.9512437185814275,\n 'iraq': 3.258096538021482,\n 'order': 3.9512437185814275,\n 'minister': 3.9512437185814275,\n 'consequence': 3.9512437185814275,\n 'study': 3.545778610473263,\n 'contributed': 3.9512437185814275,\n 'political': 3.9512437185814275,\n 'specialist': 3.9512437185814275,\n 'statesman': 3.9512437185814275,\n 'small': 3.9512437185814275,\n 'college': 3.9512437185814275,\n 'east': 3.0349529867072724,\n 'print': 3.9512437185814275,\n 'presented': 3.9512437185814275,\n 'undergraduate': 3.9512437185814275,\n 'medium': 3.545778610473263,\n 'r': 0.6554068525770982,\n 'entitled': 3.9512437185814275,\n 'avi': 3.9512437185814275,\n 'professor': 3.0349529867072724,\n 'riotous': 3.9512437185814275,\n 'npr': 3.9512437185814275,\n 'society': 3.9512437185814275,\n 'regional': 3.9512437185814275,\n 'state': 3.545778610473263,\n 'university': 3.9512437185814275,\n 'london': 3.9512437185814275,\n 'going': 3.9512437185814275,\n 'soas': 3.545778610473263,\n 'tony': 3.9512437185814275,\n 'lecture': 3.545778610473263,\n 'relation': 3.9512437185814275,\n 'charles': 3.9512437185814275}"
     },
     "execution_count": 62,
     "metadata": {},
     "output_type": "execute_result"
    }
   ],
   "source": [
    "(all_tokens, unique_tokens) = community_tokens[0]\n",
    "nlp_util.get_idf(unique_tokens, all_tokens)"
   ],
   "metadata": {
    "collapsed": false,
    "pycharm": {
     "name": "#%%\n"
    }
   }
  },
  {
   "cell_type": "code",
   "execution_count": null,
   "outputs": [],
   "source": [
    "en_subgraph = wiki_util.get_subgraph(graph_en, attribute=\"Type\", values=['person', 'event'])\n",
    "\n",
    "en_subgraph_directed = wiki_util.get_subgraph(graph_en_directed, attribute=\"Type\", values=['person', 'event'])\n",
    "\n",
    "en_subgraph_directed_withthreshold = wiki_util.threshold_node_degree_directed(en_subgraph_directed, max=[30,30])"
   ],
   "metadata": {
    "collapsed": false,
    "pycharm": {
     "name": "#%%\n"
    }
   }
  },
  {
   "cell_type": "code",
   "execution_count": null,
   "outputs": [],
   "source": [
    "import importlib\n",
    "importlib.reload(nlp_util)\n",
    "print()"
   ],
   "metadata": {
    "collapsed": false,
    "pycharm": {
     "name": "#%%\n"
    }
   }
  }
 ],
 "metadata": {
  "kernelspec": {
   "display_name": "Python 3",
   "language": "python",
   "name": "python3"
  },
  "language_info": {
   "codemirror_mode": {
    "name": "ipython",
    "version": 2
   },
   "file_extension": ".py",
   "mimetype": "text/x-python",
   "name": "python",
   "nbconvert_exporter": "python",
   "pygments_lexer": "ipython2",
   "version": "2.7.6"
  }
 },
 "nbformat": 4,
 "nbformat_minor": 0
}
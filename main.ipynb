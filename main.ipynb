{
 "cells": [
  {
   "cell_type": "markdown",
   "source": [
    "# Explainer Notebook"
   ],
   "metadata": {
    "collapsed": false,
    "pycharm": {
     "name": "#%% md\n"
    }
   }
  },
  {
   "cell_type": "markdown",
   "source": [
    "#### - Get all links in initial page\n",
    "#### - Make dataframe with columns: [URL, Title, List references, List paragraph texts]"
   ],
   "metadata": {
    "collapsed": false,
    "pycharm": {
     "name": "#%% md\n"
    }
   }
  },
  {
   "cell_type": "code",
   "execution_count": 237,
   "outputs": [],
   "source": [
    "# Options\n",
    "OPTION_PERFORM_SCRAPE = False\n",
    "OPTION_SAVE_FIG = False\n",
    "OPTION_SHOW_PLOT = True"
   ],
   "metadata": {
    "collapsed": false,
    "pycharm": {
     "name": "#%%\n"
    }
   }
  },
  {
   "cell_type": "code",
   "execution_count": 167,
   "metadata": {
    "collapsed": true,
    "pycharm": {
     "name": "#%%\n"
    }
   },
   "outputs": [],
   "source": [
    "# Imports\n",
    "import requests\n",
    "from bs4 import BeautifulSoup\n",
    "import pandas as pd\n",
    "from util import wiki_util\n",
    "from tqdm import tqdm\n",
    "from ast import literal_eval\n",
    "from collections import defaultdict\n",
    "import networkx as nx\n",
    "from netwulf.interactive import visualize\n",
    "import matplotlib.pyplot as plt\n",
    "import numpy as np\n"
   ]
  },
  {
   "cell_type": "code",
   "execution_count": 239,
   "outputs": [],
   "source": [
    "# Static Variables\n",
    "LINK_WIKI_ENGLISH = \"https://en.wikipedia.org/wiki/Cold_War\"\n",
    "LINK_WIKI_GERMAN = \"https://de.wikipedia.org/wiki/Kalter_Krieg\"\n",
    "EVENT_FILTER = [\"conflicts\", \"conflict\", \"events\", \"event\", \"wars\", \"war\", \"coups\", \"coup\",\n",
    "                \"crises\", \"crisis\", \"coup d'état\", \"history\", \"warfare\", \"battle\", \"battles\"\n",
    "                \"invasion\", \"invasions\", \"revolution\", \"revolutions\"]\n",
    "PERSON_FILTER = [\"births\", \"deaths\", \"people\", \"leader\", \"leaders\", \"politicians\", \"politician\",\n",
    "                 \"writer\", \"writers\", \"scientist\", \"scientists\", \"personnel\", \"family\", \"families\",\n",
    "                 \"executive\", \"executives\", \"spy\", \"spies\"]"
   ],
   "metadata": {
    "collapsed": false,
    "pycharm": {
     "name": "#%%\n"
    }
   }
  },
  {
   "cell_type": "code",
   "execution_count": 93,
   "outputs": [],
   "source": [
    "def get_content_soup(link_wikipedia):\n",
    "    website = requests.get(link_wikipedia)\n",
    "    content_soup = BeautifulSoup(website.content)\n",
    "    return content_soup\n",
    "\n",
    "def soup_get_title(wiki_content_soup):\n",
    "    head = wiki_content_soup.find(\"h1\", {\"id\": \"firstHeading\"})\n",
    "    return head.text\n",
    "\n",
    "def soup_get_reference_links(wiki_content_soup, language=\"en\"):\n",
    "    p_elements = wiki_content_soup.find_all(\"p\")\n",
    "    links = [a['href'] for p in p_elements for a in p.find_all(\"a\", href=True)]\n",
    "    links = [wiki_util.hyperlink_cleanup(link, language) for link in links]\n",
    "    links = [link for link in links if link != False]\n",
    "    return links\n",
    "\n",
    "def soup_get_category_texts(wiki_content_soup, language=\"en\"):\n",
    "    html_div = wiki_content_soup.find(\"div\", {\"id\": \"mw-normal-catlinks\"})\n",
    "    links_without_categories = html_div.find(\"ul\")\n",
    "    links = links_without_categories.find_all(\"a\")\n",
    "    link_texts = [a.text for a in links]\n",
    "    return link_texts\n",
    "\n",
    "def soup_get_paragraph_texts(wiki_content_soup):\n",
    "    p_elements = wiki_content_soup.find_all(\"p\")\n",
    "    paragraph_texts = [p.text for p in p_elements]\n",
    "    return paragraph_texts\n",
    "\n",
    "def get_all_reference_links(link_wikipedia, language):\n",
    "    website = requests.get(link_wikipedia)\n",
    "    content_soup = BeautifulSoup(website.content)\n",
    "    p_elements = content_soup.find_all(\"p\")\n",
    "    links = [a['href'] for p in p_elements for a in p.find_all(\"a\", href=True)]\n",
    "    links = [wiki_util.hyperlink_cleanup(link, language) for link in links]\n",
    "    links = [link for link in links if link != False]\n",
    "    return links\n"
   ],
   "metadata": {
    "collapsed": false,
    "pycharm": {
     "name": "#%%\n"
    }
   }
  },
  {
   "cell_type": "code",
   "execution_count": 94,
   "outputs": [],
   "source": [
    "# Scrape English version\n",
    "if OPTION_PERFORM_SCRAPE:\n",
    "    links_to_scan = get_all_reference_links(LINK_WIKI_ENGLISH, \"en\") + [LINK_WIKI_ENGLISH]\n",
    "    links_to_scan = sorted(list(set(links_to_scan)))\n",
    "    data = []\n",
    "    for url in tqdm(links_to_scan):\n",
    "        soup = get_content_soup(url)\n",
    "        title = soup_get_title(soup)\n",
    "        list_references = soup_get_reference_links(soup, language=\"en\")\n",
    "        list_paragraph_texts = soup_get_paragraph_texts(soup)\n",
    "        list_category_texts = soup_get_category_texts(soup)\n",
    "        data.append([url, title, list_references, list_paragraph_texts, list_category_texts])\n"
   ],
   "metadata": {
    "collapsed": false,
    "pycharm": {
     "name": "#%%\n"
    }
   }
  },
  {
   "cell_type": "code",
   "execution_count": 95,
   "outputs": [],
   "source": [
    "# Save English version\n",
    "if OPTION_PERFORM_SCRAPE:\n",
    "    COLUMN_NAMES = ['URL', 'TITLE', 'LIST_REFERENCES', 'LIST_PARAGRAPH_TEXTS', \"CATEGORIES\"]\n",
    "    df_wikipedia_english = pd.DataFrame(data, columns=COLUMN_NAMES)\n",
    "    df_wikipedia_english = df_wikipedia_english.set_index('URL')\n",
    "    df_wikipedia_english.to_csv('./data/wiki_english.csv')"
   ],
   "metadata": {
    "collapsed": false,
    "pycharm": {
     "name": "#%%\n"
    }
   }
  },
  {
   "cell_type": "code",
   "execution_count": 96,
   "outputs": [],
   "source": [
    "# Scrape German Version\n",
    "if OPTION_PERFORM_SCRAPE:\n",
    "    links_to_scan = get_all_reference_links(LINK_WIKI_GERMAN, language=\"de\") + [LINK_WIKI_GERMAN]\n",
    "    links_to_scan = sorted(list(set(links_to_scan)))\n",
    "    data = []\n",
    "    for url in tqdm(links_to_scan):\n",
    "        soup = get_content_soup(url)\n",
    "        title = soup_get_title(soup)\n",
    "        list_references = soup_get_reference_links(soup, language=\"de\")\n",
    "        list_paragraph_texts = soup_get_paragraph_texts(soup)\n",
    "        list_category_texts = soup_get_category_texts(soup)\n",
    "        data.append([url, title, list_references, list_paragraph_texts, list_category_texts])\n"
   ],
   "metadata": {
    "collapsed": false,
    "pycharm": {
     "name": "#%%\n"
    }
   }
  },
  {
   "cell_type": "code",
   "execution_count": 97,
   "outputs": [],
   "source": [
    "# Save German Version\n",
    "if OPTION_PERFORM_SCRAPE:\n",
    "    COLUMN_NAMES = ['URL', 'TITLE', 'LIST_REFERENCES', 'LIST_PARAGRAPH_TEXTS', \"CATEGORIES\"]\n",
    "    df_wikipedia_german = pd.DataFrame(data, columns=COLUMN_NAMES)\n",
    "    df_wikipedia_german = df_wikipedia_german.set_index('URL')\n",
    "    df_wikipedia_german.to_csv('./data/wiki_german.csv')"
   ],
   "metadata": {
    "collapsed": false,
    "pycharm": {
     "name": "#%%\n"
    }
   }
  },
  {
   "cell_type": "code",
   "execution_count": 246,
   "outputs": [],
   "source": [
    "df_wikipedia_english_fromCSV = pd.read_csv('./data/wiki_english.csv', index_col='URL', converters={'LIST_REFERENCES': literal_eval, 'LIST_PARAGRAPH_TEXTS': literal_eval, \"CATEGORIES\": literal_eval})\n",
    "df_wikipedia_german_fromCSV = pd.read_csv('./data/wiki_german.csv', index_col='URL', converters={'LIST_REFERENCES': literal_eval, 'LIST_PARAGRAPH_TEXTS': literal_eval, \"CATEGORIES\": literal_eval})"
   ],
   "metadata": {
    "collapsed": false,
    "pycharm": {
     "name": "#%%\n"
    }
   }
  },
  {
   "cell_type": "code",
   "execution_count": 247,
   "outputs": [
    {
     "data": {
      "text/plain": "                                                                               TITLE  \\\nURL                                                                                    \nhttps://en.wikipedia.org/wiki/1,000,000,000_(nu...                     1,000,000,000   \nhttps://en.wikipedia.org/wiki/17th_parallel_north                17th parallel north   \nhttps://en.wikipedia.org/wiki/1947_Polish_legis...  1947 Polish legislative election   \nhttps://en.wikipedia.org/wiki/1948_Czechoslovak...     1948 Czechoslovak coup d'état   \nhttps://en.wikipedia.org/wiki/1948_Italian_gene...     1948 Italian general election   \n...                                                                              ...   \nhttps://en.wikipedia.org/wiki/Yekaterinburg                            Yekaterinburg   \nhttps://en.wikipedia.org/wiki/Yom_Kippur_War                          Yom Kippur War   \nhttps://en.wikipedia.org/wiki/Yugoslavia                                  Yugoslavia   \nhttps://en.wikipedia.org/wiki/Yuri_Andropov                            Yuri Andropov   \nhttps://en.wikipedia.org/wiki/Zhou_Enlai                                  Zhou Enlai   \n\n                                                                                      LIST_REFERENCES  \\\nURL                                                                                                     \nhttps://en.wikipedia.org/wiki/1,000,000,000_(nu...  [https://en.wikipedia.org/wiki/Billion, https:...   \nhttps://en.wikipedia.org/wiki/17th_parallel_north   [https://en.wikipedia.org/wiki/Circle_of_latit...   \nhttps://en.wikipedia.org/wiki/1947_Polish_legis...  [https://en.wikipedia.org/wiki/Edward_Os%C3%B3...   \nhttps://en.wikipedia.org/wiki/1948_Czechoslovak...  [https://en.wikipedia.org/wiki/Communist_Party...   \nhttps://en.wikipedia.org/wiki/1948_Italian_gene...  [https://en.wikipedia.org/wiki/Alcide_De_Gaspe...   \n...                                                                                               ...   \nhttps://en.wikipedia.org/wiki/Yekaterinburg         [https://en.wikipedia.org/wiki/Help:IPA/Englis...   \nhttps://en.wikipedia.org/wiki/Yom_Kippur_War        [https://en.wikipedia.org/wiki/Israel, https:/...   \nhttps://en.wikipedia.org/wiki/Yugoslavia            [https://en.wikipedia.org/wiki/Geographic_coor...   \nhttps://en.wikipedia.org/wiki/Yuri_Andropov         [https://en.wikipedia.org/wiki/Old_Style_and_N...   \nhttps://en.wikipedia.org/wiki/Zhou_Enlai            [https://en.wikipedia.org/wiki/Simplified_Chin...   \n\n                                                                                 LIST_PARAGRAPH_TEXTS  \\\nURL                                                                                                     \nhttps://en.wikipedia.org/wiki/1,000,000,000_(nu...  [1,000,000,000 (one billion, short scale; one ...   \nhttps://en.wikipedia.org/wiki/17th_parallel_north   [The 17th parallel north is a circle of latitu...   \nhttps://en.wikipedia.org/wiki/1947_Polish_legis...  [\\n, Edward Osóbka-Morawski\\nPPS\\n, Józef Cyra...   \nhttps://en.wikipedia.org/wiki/1948_Czechoslovak...  [\\n, In late February 1948, the Communist Part...   \nhttps://en.wikipedia.org/wiki/1948_Italian_gene...  [\\n, Alcide De Gasperi\\nChristian Democracy\\n,...   \n...                                                                                               ...   \nhttps://en.wikipedia.org/wiki/Yekaterinburg         [\\n, Yekaterinburg (/jɪˈkætərɪnbɜːrɡ/ yih-KAT-...   \nhttps://en.wikipedia.org/wiki/Yom_Kippur_War        [\\n, Egyptian front\\n, International front\\n, ...   \nhttps://en.wikipedia.org/wiki/Yugoslavia            [\\n, Coordinates: 44°49′N 20°27′E﻿ / ﻿44.817°N...   \nhttps://en.wikipedia.org/wiki/Yuri_Andropov         [\\n, Yuri Vladimirovich Andropov[a] (15 June [...   \nhttps://en.wikipedia.org/wiki/Zhou_Enlai            [\\n, Zhou Enlai (Chinese: 周恩来; pinyin: Zhōu Ēn...   \n\n                                                                                           CATEGORIES  \nURL                                                                                                    \nhttps://en.wikipedia.org/wiki/1,000,000,000_(nu...                          [Integers, Large numbers]  \nhttps://en.wikipedia.org/wiki/17th_parallel_north                               [Circles of latitude]  \nhttps://en.wikipedia.org/wiki/1947_Polish_legis...  [Electoral fraud in Poland, 1947 elections in ...  \nhttps://en.wikipedia.org/wiki/1948_Czechoslovak...  [Cold War conflicts, 1948 in Czechoslovakia, P...  \nhttps://en.wikipedia.org/wiki/1948_Italian_gene...  [1948 elections in Europe, 1948 elections in I...  \n...                                                                                               ...  \nhttps://en.wikipedia.org/wiki/Yekaterinburg         [Yekaterinburg, Yekaterinburgsky Uyezd, Popula...  \nhttps://en.wikipedia.org/wiki/Yom_Kippur_War        [Yom Kippur War, 1973 in Egypt, Conflicts in 1...  \nhttps://en.wikipedia.org/wiki/Yugoslavia            [Yugoslavia, Former countries in the Balkans, ...  \nhttps://en.wikipedia.org/wiki/Yuri_Andropov         [1914 births, 1984 deaths, Ambassadors of the ...  \nhttps://en.wikipedia.org/wiki/Zhou_Enlai            [Zhou Enlai, Premiers of the People's Republic...  \n\n[860 rows x 4 columns]",
      "text/html": "<div>\n<style scoped>\n    .dataframe tbody tr th:only-of-type {\n        vertical-align: middle;\n    }\n\n    .dataframe tbody tr th {\n        vertical-align: top;\n    }\n\n    .dataframe thead th {\n        text-align: right;\n    }\n</style>\n<table border=\"1\" class=\"dataframe\">\n  <thead>\n    <tr style=\"text-align: right;\">\n      <th></th>\n      <th>TITLE</th>\n      <th>LIST_REFERENCES</th>\n      <th>LIST_PARAGRAPH_TEXTS</th>\n      <th>CATEGORIES</th>\n    </tr>\n    <tr>\n      <th>URL</th>\n      <th></th>\n      <th></th>\n      <th></th>\n      <th></th>\n    </tr>\n  </thead>\n  <tbody>\n    <tr>\n      <th>https://en.wikipedia.org/wiki/1,000,000,000_(number)</th>\n      <td>1,000,000,000</td>\n      <td>[https://en.wikipedia.org/wiki/Billion, https:...</td>\n      <td>[1,000,000,000 (one billion, short scale; one ...</td>\n      <td>[Integers, Large numbers]</td>\n    </tr>\n    <tr>\n      <th>https://en.wikipedia.org/wiki/17th_parallel_north</th>\n      <td>17th parallel north</td>\n      <td>[https://en.wikipedia.org/wiki/Circle_of_latit...</td>\n      <td>[The 17th parallel north is a circle of latitu...</td>\n      <td>[Circles of latitude]</td>\n    </tr>\n    <tr>\n      <th>https://en.wikipedia.org/wiki/1947_Polish_legislative_election</th>\n      <td>1947 Polish legislative election</td>\n      <td>[https://en.wikipedia.org/wiki/Edward_Os%C3%B3...</td>\n      <td>[\\n, Edward Osóbka-Morawski\\nPPS\\n, Józef Cyra...</td>\n      <td>[Electoral fraud in Poland, 1947 elections in ...</td>\n    </tr>\n    <tr>\n      <th>https://en.wikipedia.org/wiki/1948_Czechoslovak_coup_d%27%C3%A9tat</th>\n      <td>1948 Czechoslovak coup d'état</td>\n      <td>[https://en.wikipedia.org/wiki/Communist_Party...</td>\n      <td>[\\n, In late February 1948, the Communist Part...</td>\n      <td>[Cold War conflicts, 1948 in Czechoslovakia, P...</td>\n    </tr>\n    <tr>\n      <th>https://en.wikipedia.org/wiki/1948_Italian_general_election</th>\n      <td>1948 Italian general election</td>\n      <td>[https://en.wikipedia.org/wiki/Alcide_De_Gaspe...</td>\n      <td>[\\n, Alcide De Gasperi\\nChristian Democracy\\n,...</td>\n      <td>[1948 elections in Europe, 1948 elections in I...</td>\n    </tr>\n    <tr>\n      <th>...</th>\n      <td>...</td>\n      <td>...</td>\n      <td>...</td>\n      <td>...</td>\n    </tr>\n    <tr>\n      <th>https://en.wikipedia.org/wiki/Yekaterinburg</th>\n      <td>Yekaterinburg</td>\n      <td>[https://en.wikipedia.org/wiki/Help:IPA/Englis...</td>\n      <td>[\\n, Yekaterinburg (/jɪˈkætərɪnbɜːrɡ/ yih-KAT-...</td>\n      <td>[Yekaterinburg, Yekaterinburgsky Uyezd, Popula...</td>\n    </tr>\n    <tr>\n      <th>https://en.wikipedia.org/wiki/Yom_Kippur_War</th>\n      <td>Yom Kippur War</td>\n      <td>[https://en.wikipedia.org/wiki/Israel, https:/...</td>\n      <td>[\\n, Egyptian front\\n, International front\\n, ...</td>\n      <td>[Yom Kippur War, 1973 in Egypt, Conflicts in 1...</td>\n    </tr>\n    <tr>\n      <th>https://en.wikipedia.org/wiki/Yugoslavia</th>\n      <td>Yugoslavia</td>\n      <td>[https://en.wikipedia.org/wiki/Geographic_coor...</td>\n      <td>[\\n, Coordinates: 44°49′N 20°27′E﻿ / ﻿44.817°N...</td>\n      <td>[Yugoslavia, Former countries in the Balkans, ...</td>\n    </tr>\n    <tr>\n      <th>https://en.wikipedia.org/wiki/Yuri_Andropov</th>\n      <td>Yuri Andropov</td>\n      <td>[https://en.wikipedia.org/wiki/Old_Style_and_N...</td>\n      <td>[\\n, Yuri Vladimirovich Andropov[a] (15 June [...</td>\n      <td>[1914 births, 1984 deaths, Ambassadors of the ...</td>\n    </tr>\n    <tr>\n      <th>https://en.wikipedia.org/wiki/Zhou_Enlai</th>\n      <td>Zhou Enlai</td>\n      <td>[https://en.wikipedia.org/wiki/Simplified_Chin...</td>\n      <td>[\\n, Zhou Enlai (Chinese: 周恩来; pinyin: Zhōu Ēn...</td>\n      <td>[Zhou Enlai, Premiers of the People's Republic...</td>\n    </tr>\n  </tbody>\n</table>\n<p>860 rows × 4 columns</p>\n</div>"
     },
     "execution_count": 247,
     "metadata": {},
     "output_type": "execute_result"
    }
   ],
   "source": [
    "df_wikipedia_english_fromCSV"
   ],
   "metadata": {
    "collapsed": false,
    "pycharm": {
     "name": "#%%\n"
    }
   }
  },
  {
   "cell_type": "code",
   "execution_count": 254,
   "outputs": [],
   "source": [
    "def get_category(input_list):\n",
    "    event_score = 0\n",
    "    person_score = 0\n",
    "    for item in input_list:\n",
    "        for E in EVENT_FILTER:\n",
    "            if E in item.lower():\n",
    "                event_score +=1\n",
    "        for P in PERSON_FILTER:\n",
    "            if P in item.lower():\n",
    "                person_score +=1\n",
    "    if not event_score and not person_score:\n",
    "        return \"none\"\n",
    "    return \"event\" if event_score > person_score else \"person\""
   ],
   "metadata": {
    "collapsed": false,
    "pycharm": {
     "name": "#%%\n"
    }
   }
  },
  {
   "cell_type": "code",
   "execution_count": 255,
   "outputs": [],
   "source": [
    "df_wikipedia_english_fromCSV['TYPE'] = df_wikipedia_english_fromCSV.apply(lambda x: get_category(x['CATEGORIES']), axis=1)\n",
    "# Virker til en vis grænse, nogle småting der ikke bliver fanget ordenligt. None filteret virker bedst."
   ],
   "metadata": {
    "collapsed": false,
    "pycharm": {
     "name": "#%%\n"
    }
   }
  },
  {
   "cell_type": "code",
   "execution_count": 300,
   "outputs": [
    {
     "data": {
      "text/plain": "                         LIST_REFERENCES  LIST_PARAGRAPH_TEXTS  CATEGORIES\nTITLE                                                                     \nAdam Rapacki                           1                     1           1\nAdolf Hitler                           1                     1           1\nAhmad Husein                           1                     1           1\nAlbert Kahn (architect)                1                     1           1\nAlcide De Gasperi                      1                     1           1\n...                                  ...                   ...         ...\nWojciech Jaruzelski                    1                     1           1\nWoodrow Wilson                         1                     1           1\nYasser Arafat                          1                     1           1\nYuri Andropov                          1                     1           1\nZhou Enlai                             1                     1           1\n\n[176 rows x 3 columns]",
      "text/html": "<div>\n<style scoped>\n    .dataframe tbody tr th:only-of-type {\n        vertical-align: middle;\n    }\n\n    .dataframe tbody tr th {\n        vertical-align: top;\n    }\n\n    .dataframe thead th {\n        text-align: right;\n    }\n</style>\n<table border=\"1\" class=\"dataframe\">\n  <thead>\n    <tr style=\"text-align: right;\">\n      <th></th>\n      <th>LIST_REFERENCES</th>\n      <th>LIST_PARAGRAPH_TEXTS</th>\n      <th>CATEGORIES</th>\n    </tr>\n    <tr>\n      <th>TITLE</th>\n      <th></th>\n      <th></th>\n      <th></th>\n    </tr>\n  </thead>\n  <tbody>\n    <tr>\n      <th>Adam Rapacki</th>\n      <td>1</td>\n      <td>1</td>\n      <td>1</td>\n    </tr>\n    <tr>\n      <th>Adolf Hitler</th>\n      <td>1</td>\n      <td>1</td>\n      <td>1</td>\n    </tr>\n    <tr>\n      <th>Ahmad Husein</th>\n      <td>1</td>\n      <td>1</td>\n      <td>1</td>\n    </tr>\n    <tr>\n      <th>Albert Kahn (architect)</th>\n      <td>1</td>\n      <td>1</td>\n      <td>1</td>\n    </tr>\n    <tr>\n      <th>Alcide De Gasperi</th>\n      <td>1</td>\n      <td>1</td>\n      <td>1</td>\n    </tr>\n    <tr>\n      <th>...</th>\n      <td>...</td>\n      <td>...</td>\n      <td>...</td>\n    </tr>\n    <tr>\n      <th>Wojciech Jaruzelski</th>\n      <td>1</td>\n      <td>1</td>\n      <td>1</td>\n    </tr>\n    <tr>\n      <th>Woodrow Wilson</th>\n      <td>1</td>\n      <td>1</td>\n      <td>1</td>\n    </tr>\n    <tr>\n      <th>Yasser Arafat</th>\n      <td>1</td>\n      <td>1</td>\n      <td>1</td>\n    </tr>\n    <tr>\n      <th>Yuri Andropov</th>\n      <td>1</td>\n      <td>1</td>\n      <td>1</td>\n    </tr>\n    <tr>\n      <th>Zhou Enlai</th>\n      <td>1</td>\n      <td>1</td>\n      <td>1</td>\n    </tr>\n  </tbody>\n</table>\n<p>176 rows × 3 columns</p>\n</div>"
     },
     "execution_count": 300,
     "metadata": {},
     "output_type": "execute_result"
    }
   ],
   "source": [
    "df_wikipedia_english_fromCSV.groupby(['TYPE', 'TITLE']).count().transpose().person.transpose()"
   ],
   "metadata": {
    "collapsed": false,
    "pycharm": {
     "name": "#%%\n"
    }
   }
  },
  {
   "cell_type": "code",
   "execution_count": 334,
   "outputs": [
    {
     "name": "stderr",
     "output_type": "stream",
     "text": [
      "100%|██████████| 860/860 [00:02<00:00, 365.92it/s]\n"
     ]
    }
   ],
   "source": [
    "def df_get_url_list(df_wiki):\n",
    "    return list(df_wiki.index)\n",
    "\n",
    "def mask_list(base, to_mask):\n",
    "    res = [o for o in to_mask if o in base]\n",
    "    return res\n",
    "\n",
    "# (a, b): count\n",
    "reference_count = defaultdict(lambda:0)\n",
    "\n",
    "url_list = df_get_url_list(df_wikipedia_english_fromCSV)\n",
    "for url in tqdm(url_list):\n",
    "    references = df_wikipedia_english_fromCSV[\"LIST_REFERENCES\"][url]\n",
    "    references = mask_list(url_list, references)\n",
    "\n",
    "    for url_ref in references:\n",
    "        reference_count[(url, url_ref)] += 1\n"
   ],
   "metadata": {
    "collapsed": false,
    "pycharm": {
     "name": "#%%\n"
    }
   }
  },
  {
   "cell_type": "code",
   "execution_count": 335,
   "outputs": [
    {
     "name": "stdout",
     "output_type": "stream",
     "text": [
      "19615\n"
     ]
    }
   ],
   "source": [
    "print(len(reference_count.keys()))"
   ],
   "metadata": {
    "collapsed": false,
    "pycharm": {
     "name": "#%%\n"
    }
   }
  },
  {
   "cell_type": "code",
   "execution_count": 336,
   "outputs": [
    {
     "name": "stderr",
     "output_type": "stream",
     "text": [
      "100%|██████████| 860/860 [00:00<00:00, 1590.96it/s]\n"
     ]
    }
   ],
   "source": [
    "edge_list = []\n",
    "for a in tqdm(url_list):\n",
    "    for b in url_list:\n",
    "        weight = reference_count[(a,b)]\n",
    "        # weight += reference_count[(b,a)]\n",
    "        if weight > 0:\n",
    "            # if not ((a, b, weight) in edge_list or (b, a, weight) in edge_list):\n",
    "            edge_list.append((a, b, weight))"
   ],
   "metadata": {
    "collapsed": false,
    "pycharm": {
     "name": "#%%\n"
    }
   }
  },
  {
   "cell_type": "code",
   "execution_count": 337,
   "outputs": [],
   "source": [
    "G = nx.DiGraph()\n",
    "G.add_weighted_edges_from(edge_list)"
   ],
   "metadata": {
    "collapsed": false,
    "pycharm": {
     "name": "#%%\n"
    }
   }
  },
  {
   "cell_type": "code",
   "execution_count": 338,
   "outputs": [],
   "source": [
    "for node in G.nodes:\n",
    "    G.nodes[node]['Type'] = df_wikipedia_english_fromCSV[df_wikipedia_english_fromCSV.index == node].TYPE.tolist()[0]"
   ],
   "metadata": {
    "collapsed": false,
    "pycharm": {
     "name": "#%%\n"
    }
   }
  },
  {
   "cell_type": "code",
   "execution_count": 343,
   "outputs": [],
   "source": [
    "nodes = (\n",
    "    node\n",
    "    for node, data\n",
    "    in G.nodes(data=True)\n",
    "    if data.get(\"Type\") in ['event']\n",
    ")\n",
    "subgraph = G.subgraph(nodes)"
   ],
   "metadata": {
    "collapsed": false,
    "pycharm": {
     "name": "#%%\n"
    }
   }
  },
  {
   "cell_type": "code",
   "execution_count": 345,
   "outputs": [],
   "source": [
    "#visualize(subgraph)"
   ],
   "metadata": {
    "collapsed": false,
    "pycharm": {
     "name": "#%%\n"
    }
   }
  },
  {
   "cell_type": "code",
   "execution_count": 238,
   "outputs": [
    {
     "data": {
      "text/plain": "<Figure size 640x480 with 2 Axes>",
      "image/png": "[encoded data removed]"
     },
     "metadata": {},
     "output_type": "display_data"
    }
   ],
   "source": [
    "if OPTION_SHOW_PLOT:\n",
    "    in_degrees = [x[1] for x in G.in_degree]\n",
    "    out_degrees = [x[1] for x in G.out_degree]\n",
    "    bins = np.linspace(min(in_degrees), max(in_degrees), 50)\n",
    "\n",
    "    mean = np.mean(in_degrees)\n",
    "    median = np.median(in_degrees)\n",
    "\n",
    "    hist, edges = np.histogram(in_degrees, bins=bins)\n",
    "    x = (edges[1:] + edges[:-1])/2\n",
    "    width = bins[1] - bins[0]\n",
    "    fig, axs = plt.subplots(2)\n",
    "    axs[0].bar(x, hist, width=width*0.9)\n",
    "\n",
    "    axs[0].set_xlabel('In-Degrees')\n",
    "    axs[0].set_ylabel('Articles')\n",
    "    axs[0].set_yscale('log')\n",
    "    axs[0].set_xticks(range(0, 501, 50))\n",
    "    axs[0].set_yticks([10**0, 10**1, 10**2, max(hist)], labels=[10**0, 10**1, 10**2, max(hist)])\n",
    "    axs[0].axline((mean, 0), (mean, max(in_degrees)), color='red', label='mean in-degrees')\n",
    "    axs[0].axline((median, 0), (median, max(in_degrees)), linestyle='--', color='red', label='median in-degrees')\n",
    "    axs[0].legend()\n",
    "\n",
    "    bins = np.linspace(min(out_degrees), max(out_degrees), 50)\n",
    "\n",
    "    mean = np.mean(out_degrees)\n",
    "    median = np.median(out_degrees)\n",
    "\n",
    "    hist, edges = np.histogram(out_degrees, bins=bins)\n",
    "    x = (edges[1:] + edges[:-1])/2\n",
    "    width = bins[1] - bins[0]\n",
    "    axs[1].bar(x, hist, width=width*0.9)\n",
    "\n",
    "    axs[1].set_xlabel('Out-Degrees')\n",
    "    axs[1].set_ylabel('Articles')\n",
    "    axs[1].set_yscale('log')\n",
    "    axs[1].set_xticks(range(0, int(max(list(bins))), 60))\n",
    "    axs[1].set_yticks([10**0, 10**1, 10**2, max(hist)], labels=[10**0, 10**1, 10**2, max(hist)])\n",
    "    axs[1].axline((mean, 0), (mean, max(out_degrees)), color='red', label='mean Out-degrees')\n",
    "    axs[1].axline((median, 0), (median, max(out_degrees)), linestyle='--', color='red', label='median Out-degrees')\n",
    "    axs[1].legend()\n",
    "    fig.tight_layout(pad=0.5)\n",
    "    plt.show()\n",
    "    if OPTION_SAVE_FIG:\n",
    "        fig.savefig(\"./images/degree_distributions.png\")"
   ],
   "metadata": {
    "collapsed": false,
    "pycharm": {
     "name": "#%%\n"
    }
   }
  },
  {
   "cell_type": "code",
   "execution_count": 104,
   "outputs": [
    {
     "data": {
      "text/plain": "(None, None)"
     },
     "execution_count": 104,
     "metadata": {},
     "output_type": "execute_result"
    }
   ],
   "source": [
    "# visualize(G)"
   ],
   "metadata": {
    "collapsed": false,
    "pycharm": {
     "name": "#%%\n"
    }
   }
  },
  {
   "cell_type": "code",
   "execution_count": 105,
   "outputs": [
    {
     "name": "stdout",
     "output_type": "stream",
     "text": [
      "\n"
     ]
    }
   ],
   "source": [
    "config = {'zoom': 0.7629787234042553,\n",
    "  'node_charge': -73.39458413926499,\n",
    "  'node_gravity': 0,\n",
    "  'link_distance': 15.53811411992263,\n",
    "  'link_distance_variation': 0.07,\n",
    "  'node_collision': True,\n",
    "  'wiggle_nodes': False,\n",
    "  'freeze_nodes': False,\n",
    "  'node_fill_color': '#cdcdcd',\n",
    "  'node_stroke_color': '#000000',\n",
    "  'node_label_color': '#3c3c3c',\n",
    "  'display_node_labels': False,\n",
    "  'scale_node_size_by_strength': True,\n",
    "  'node_size': 37.13249516441006,\n",
    "  'node_stroke_width': 0.6179883945841392,\n",
    "  'node_size_variation': 0.9652804642166344,\n",
    "  'link_color': '#303f89',\n",
    "  'link_width': 2.2345967117988392,\n",
    "  'link_alpha': 0.24129593810444874,\n",
    "  'link_width_variation': 1.3737911025145066,\n",
    "  'display_singleton_nodes': True,\n",
    "  'min_link_weight_percentile': 0,\n",
    "  'max_link_weight_percentile': 1}\n",
    "visualize(G, config=config)\n",
    "print()"
   ],
   "metadata": {
    "collapsed": false,
    "pycharm": {
     "name": "#%%\n"
    }
   }
  },
  {
   "cell_type": "code",
   "execution_count": 106,
   "outputs": [
    {
     "name": "stdout",
     "output_type": "stream",
     "text": [
      "N nodes: 860\n",
      "N edges: 19615\n"
     ]
    }
   ],
   "source": [
    "print(\"N nodes:\", len(G.nodes))\n",
    "print(\"N edges:\", len(G.edges))\n"
   ],
   "metadata": {
    "collapsed": false,
    "pycharm": {
     "name": "#%%\n"
    }
   }
  }
 ],
 "metadata": {
  "kernelspec": {
   "display_name": "Python 3",
   "language": "python",
   "name": "python3"
  },
  "language_info": {
   "codemirror_mode": {
    "name": "ipython",
    "version": 2
   },
   "file_extension": ".py",
   "mimetype": "text/x-python",
   "name": "python",
   "nbconvert_exporter": "python",
   "pygments_lexer": "ipython2",
   "version": "2.7.6"
  }
 },
 "nbformat": 4,
 "nbformat_minor": 0
}
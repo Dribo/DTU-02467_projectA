{
 "cells": [
  {
   "cell_type": "markdown",
   "source": [
    "# Explainer Notebook"
   ],
   "metadata": {
    "collapsed": false,
    "pycharm": {
     "name": "#%% md\n"
    }
   }
  },
  {
   "cell_type": "markdown",
   "source": [
    "#### - Get all links in initial page\n",
    "#### - Make dataframe with columns: [URL, Title, List references, List paragraph texts]"
   ],
   "metadata": {
    "collapsed": false,
    "pycharm": {
     "name": "#%% md\n"
    }
   }
  },
  {
   "cell_type": "code",
   "execution_count": 1,
   "outputs": [],
   "source": [
    "# Options\n",
    "OPTION_PERFORM_SCRAPE = False"
   ],
   "metadata": {
    "collapsed": false,
    "pycharm": {
     "name": "#%%\n"
    }
   }
  },
  {
   "cell_type": "code",
   "execution_count": 2,
   "metadata": {
    "collapsed": true,
    "pycharm": {
     "name": "#%%\n"
    }
   },
   "outputs": [],
   "source": [
    "# Imports\n",
    "import requests\n",
    "from bs4 import BeautifulSoup\n",
    "import pandas as pd\n",
    "from util import wiki_util\n",
    "from tqdm import tqdm\n",
    "from ast import literal_eval"
   ]
  },
  {
   "cell_type": "code",
   "execution_count": 3,
   "outputs": [],
   "source": [
    "# Static Variables\n",
    "LINK_WIKI_ENGLISH = \"https://en.wikipedia.org/wiki/Cold_War\"\n",
    "LINK_WIKI_GERMAN = \"https://de.wikipedia.org/wiki/Kalter_Krieg\""
   ],
   "metadata": {
    "collapsed": false,
    "pycharm": {
     "name": "#%%\n"
    }
   }
  },
  {
   "cell_type": "code",
   "execution_count": 4,
   "outputs": [],
   "source": [
    "def get_content_soup(link_wikipedia):\n",
    "    website = requests.get(link_wikipedia)\n",
    "    content_soup = BeautifulSoup(website.content)\n",
    "    return content_soup\n",
    "\n",
    "def soup_get_title(wiki_content_soup):\n",
    "    head = wiki_content_soup.find(\"h1\", {\"id\": \"firstHeading\"})\n",
    "    return head.text\n",
    "\n",
    "def soup_get_reference_links(wiki_content_soup):\n",
    "    p_elements = wiki_content_soup.find_all(\"p\")\n",
    "    links = [a['href'] for p in p_elements for a in p.find_all(\"a\", href=True)]\n",
    "    links = [wiki_util.hyperlink_cleanup(link) for link in links]\n",
    "    links = [link for link in links if link != False]\n",
    "    return links\n",
    "\n",
    "def soup_get_paragraph_texts(wiki_content_soup):\n",
    "    p_elements = wiki_content_soup.find_all(\"p\")\n",
    "    paragraph_texts = [p.text for p in p_elements]\n",
    "    return paragraph_texts\n",
    "\n",
    "def get_all_reference_links(link_wikipedia):\n",
    "    website = requests.get(link_wikipedia)\n",
    "    content_soup = BeautifulSoup(website.content)\n",
    "    p_elements = content_soup.find_all(\"p\")\n",
    "    links = [a['href'] for p in p_elements for a in p.find_all(\"a\", href=True)]\n",
    "    links = [wiki_util.hyperlink_cleanup(link) for link in links]\n",
    "    links = [link for link in links if link != False]\n",
    "    return links\n"
   ],
   "metadata": {
    "collapsed": false,
    "pycharm": {
     "name": "#%%\n"
    }
   }
  },
  {
   "cell_type": "code",
   "execution_count": 5,
   "outputs": [],
   "source": [
    "# Scrape English version\n",
    "if OPTION_PERFORM_SCRAPE:\n",
    "    links_to_scan = get_all_reference_links(LINK_WIKI_ENGLISH) + [LINK_WIKI_ENGLISH]\n",
    "    links_to_scan = sorted(list(set(links_to_scan)))\n",
    "    data = []\n",
    "    for url in tqdm(links_to_scan):\n",
    "        soup = get_content_soup(url)\n",
    "        title = soup_get_title(soup)\n",
    "        list_references = soup_get_reference_links(soup)\n",
    "        list_paragraph_texts = soup_get_paragraph_texts(soup)\n",
    "        data.append([url, title, list_references, list_paragraph_texts])\n"
   ],
   "metadata": {
    "collapsed": false,
    "pycharm": {
     "name": "#%%\n"
    }
   }
  },
  {
   "cell_type": "code",
   "execution_count": 6,
   "outputs": [],
   "source": [
    "# Save English version\n",
    "if OPTION_PERFORM_SCRAPE:\n",
    "    COLUMN_NAMES = ['URL', 'TITLE', 'LIST_REFERENCES', 'LIST_PARAGRAPH_TEXTS']\n",
    "    df_wikipedia_english = pd.DataFrame(data, columns=COLUMN_NAMES)\n",
    "    df_wikipedia_english = df_wikipedia_english.set_index('URL')\n",
    "    df_wikipedia_english.to_csv('./data/wiki_english.csv')"
   ],
   "metadata": {
    "collapsed": false,
    "pycharm": {
     "name": "#%%\n"
    }
   }
  },
  {
   "cell_type": "code",
   "execution_count": 7,
   "outputs": [],
   "source": [
    "# Scrape German Version\n",
    "if OPTION_PERFORM_SCRAPE:\n",
    "    links_to_scan = get_all_reference_links(LINK_WIKI_GERMAN) + [LINK_WIKI_GERMAN]\n",
    "    links_to_scan = sorted(list(set(links_to_scan)))\n",
    "    data = []\n",
    "    for url in tqdm(links_to_scan):\n",
    "        soup = get_content_soup(url)\n",
    "        title = soup_get_title(soup)\n",
    "        list_references = soup_get_reference_links(soup)\n",
    "        list_paragraph_texts = soup_get_paragraph_texts(soup)\n",
    "        data.append([url, title, list_references, list_paragraph_texts])\n"
   ],
   "metadata": {
    "collapsed": false,
    "pycharm": {
     "name": "#%%\n"
    }
   }
  },
  {
   "cell_type": "code",
   "execution_count": 8,
   "outputs": [],
   "source": [
    "# Save German Version\n",
    "if OPTION_PERFORM_SCRAPE:\n",
    "    COLUMN_NAMES = ['URL', 'TITLE', 'LIST_REFERENCES', 'LIST_PARAGRAPH_TEXTS']\n",
    "    df_wikipedia_german = pd.DataFrame(data, columns=COLUMN_NAMES)\n",
    "    df_wikipedia_german = df_wikipedia_german.set_index('URL')\n",
    "    df_wikipedia_german.to_csv('./data/wiki_german.csv')"
   ],
   "metadata": {
    "collapsed": false,
    "pycharm": {
     "name": "#%%\n"
    }
   }
  },
  {
   "cell_type": "code",
   "execution_count": 9,
   "outputs": [],
   "source": [
    "df_wikipedia_english_fromCSV = pd.read_csv('./data/wiki_english.csv', index_col='URL', converters={'LIST_REFERENCES': literal_eval, 'LIST_PARAGRAPH_TEXTS': literal_eval})\n",
    "df_wikipedia_german_fromCSV = pd.read_csv('./data/wiki_german.csv', index_col='URL', converters={'LIST_REFERENCES': literal_eval, 'LIST_PARAGRAPH_TEXTS': literal_eval})"
   ],
   "metadata": {
    "collapsed": false,
    "pycharm": {
     "name": "#%%\n"
    }
   }
  },
  {
   "cell_type": "code",
   "execution_count": 10,
   "outputs": [
    {
     "data": {
      "text/plain": "                                                                               TITLE  \\\nURL                                                                                    \nhttps://en.wikipedia.org/wiki/1,000,000,000_(nu...                     1,000,000,000   \nhttps://en.wikipedia.org/wiki/17th_parallel_north                17th parallel north   \nhttps://en.wikipedia.org/wiki/1947_Polish_legis...  1947 Polish legislative election   \nhttps://en.wikipedia.org/wiki/1948_Czechoslovak...     1948 Czechoslovak coup d'état   \nhttps://en.wikipedia.org/wiki/1948_Italian_gene...     1948 Italian general election   \n...                                                                              ...   \nhttps://en.wikipedia.org/wiki/Yasser_Arafat                            Yasser Arafat   \nhttps://en.wikipedia.org/wiki/Yekaterinburg                            Yekaterinburg   \nhttps://en.wikipedia.org/wiki/Yugoslavia                                  Yugoslavia   \nhttps://en.wikipedia.org/wiki/Yuri_Andropov                            Yuri Andropov   \nhttps://en.wikipedia.org/wiki/Zhou_Enlai                                  Zhou Enlai   \n\n                                                                                      LIST_REFERENCES  \\\nURL                                                                                                     \nhttps://en.wikipedia.org/wiki/1,000,000,000_(nu...  [https://en.wikipedia.org/wiki/Billion, https:...   \nhttps://en.wikipedia.org/wiki/17th_parallel_north   [https://en.wikipedia.org/wiki/Circle_of_latit...   \nhttps://en.wikipedia.org/wiki/1947_Polish_legis...  [https://en.wikipedia.org/wiki/Edward_Os%C3%B3...   \nhttps://en.wikipedia.org/wiki/1948_Czechoslovak...  [https://en.wikipedia.org/wiki/Communist_Party...   \nhttps://en.wikipedia.org/wiki/1948_Italian_gene...  [https://en.wikipedia.org/wiki/Alcide_De_Gaspe...   \n...                                                                                               ...   \nhttps://en.wikipedia.org/wiki/Yasser_Arafat         [https://en.wikipedia.org/wiki/Help:IPA/Englis...   \nhttps://en.wikipedia.org/wiki/Yekaterinburg         [https://en.wikipedia.org/wiki/Help:IPA/Englis...   \nhttps://en.wikipedia.org/wiki/Yugoslavia            [https://en.wikipedia.org/wiki/Geographic_coor...   \nhttps://en.wikipedia.org/wiki/Yuri_Andropov         [https://en.wikipedia.org/wiki/Old_Style_and_N...   \nhttps://en.wikipedia.org/wiki/Zhou_Enlai            [https://en.wikipedia.org/wiki/Simplified_Chin...   \n\n                                                                                 LIST_PARAGRAPH_TEXTS  \nURL                                                                                                    \nhttps://en.wikipedia.org/wiki/1,000,000,000_(nu...  [1,000,000,000 (one billion, short scale; one ...  \nhttps://en.wikipedia.org/wiki/17th_parallel_north   [The 17th parallel north is a circle of latitu...  \nhttps://en.wikipedia.org/wiki/1947_Polish_legis...  [\\n, Edward Osóbka-Morawski\\nPPS\\n, Józef Cyra...  \nhttps://en.wikipedia.org/wiki/1948_Czechoslovak...  [\\n, In late February 1948, the Communist Part...  \nhttps://en.wikipedia.org/wiki/1948_Italian_gene...  [\\n, Alcide De Gasperi\\nChristian Democracy\\n,...  \n...                                                                                               ...  \nhttps://en.wikipedia.org/wiki/Yasser_Arafat         [\\n, Mohammed Abdel Rahman Abdel Raouf Arafat ...  \nhttps://en.wikipedia.org/wiki/Yekaterinburg         [\\n, Yekaterinburg (/jɪˈkætərɪnbɜːrɡ/ yih-KAT-...  \nhttps://en.wikipedia.org/wiki/Yugoslavia            [\\n, Coordinates: 44°49′N 20°27′E﻿ / ﻿44.817°N...  \nhttps://en.wikipedia.org/wiki/Yuri_Andropov         [\\n, Yuri Vladimirovich Andropov[a] (15 June [...  \nhttps://en.wikipedia.org/wiki/Zhou_Enlai            [\\n, Zhou Enlai (Chinese: 周恩来; pinyin: Zhōu Ēn...  \n\n[857 rows x 3 columns]",
      "text/html": "<div>\n<style scoped>\n    .dataframe tbody tr th:only-of-type {\n        vertical-align: middle;\n    }\n\n    .dataframe tbody tr th {\n        vertical-align: top;\n    }\n\n    .dataframe thead th {\n        text-align: right;\n    }\n</style>\n<table border=\"1\" class=\"dataframe\">\n  <thead>\n    <tr style=\"text-align: right;\">\n      <th></th>\n      <th>TITLE</th>\n      <th>LIST_REFERENCES</th>\n      <th>LIST_PARAGRAPH_TEXTS</th>\n    </tr>\n    <tr>\n      <th>URL</th>\n      <th></th>\n      <th></th>\n      <th></th>\n    </tr>\n  </thead>\n  <tbody>\n    <tr>\n      <th>https://en.wikipedia.org/wiki/1,000,000,000_(number)</th>\n      <td>1,000,000,000</td>\n      <td>[https://en.wikipedia.org/wiki/Billion, https:...</td>\n      <td>[1,000,000,000 (one billion, short scale; one ...</td>\n    </tr>\n    <tr>\n      <th>https://en.wikipedia.org/wiki/17th_parallel_north</th>\n      <td>17th parallel north</td>\n      <td>[https://en.wikipedia.org/wiki/Circle_of_latit...</td>\n      <td>[The 17th parallel north is a circle of latitu...</td>\n    </tr>\n    <tr>\n      <th>https://en.wikipedia.org/wiki/1947_Polish_legislative_election</th>\n      <td>1947 Polish legislative election</td>\n      <td>[https://en.wikipedia.org/wiki/Edward_Os%C3%B3...</td>\n      <td>[\\n, Edward Osóbka-Morawski\\nPPS\\n, Józef Cyra...</td>\n    </tr>\n    <tr>\n      <th>https://en.wikipedia.org/wiki/1948_Czechoslovak_coup_d%27%C3%A9tat</th>\n      <td>1948 Czechoslovak coup d'état</td>\n      <td>[https://en.wikipedia.org/wiki/Communist_Party...</td>\n      <td>[\\n, In late February 1948, the Communist Part...</td>\n    </tr>\n    <tr>\n      <th>https://en.wikipedia.org/wiki/1948_Italian_general_election</th>\n      <td>1948 Italian general election</td>\n      <td>[https://en.wikipedia.org/wiki/Alcide_De_Gaspe...</td>\n      <td>[\\n, Alcide De Gasperi\\nChristian Democracy\\n,...</td>\n    </tr>\n    <tr>\n      <th>...</th>\n      <td>...</td>\n      <td>...</td>\n      <td>...</td>\n    </tr>\n    <tr>\n      <th>https://en.wikipedia.org/wiki/Yasser_Arafat</th>\n      <td>Yasser Arafat</td>\n      <td>[https://en.wikipedia.org/wiki/Help:IPA/Englis...</td>\n      <td>[\\n, Mohammed Abdel Rahman Abdel Raouf Arafat ...</td>\n    </tr>\n    <tr>\n      <th>https://en.wikipedia.org/wiki/Yekaterinburg</th>\n      <td>Yekaterinburg</td>\n      <td>[https://en.wikipedia.org/wiki/Help:IPA/Englis...</td>\n      <td>[\\n, Yekaterinburg (/jɪˈkætərɪnbɜːrɡ/ yih-KAT-...</td>\n    </tr>\n    <tr>\n      <th>https://en.wikipedia.org/wiki/Yugoslavia</th>\n      <td>Yugoslavia</td>\n      <td>[https://en.wikipedia.org/wiki/Geographic_coor...</td>\n      <td>[\\n, Coordinates: 44°49′N 20°27′E﻿ / ﻿44.817°N...</td>\n    </tr>\n    <tr>\n      <th>https://en.wikipedia.org/wiki/Yuri_Andropov</th>\n      <td>Yuri Andropov</td>\n      <td>[https://en.wikipedia.org/wiki/Old_Style_and_N...</td>\n      <td>[\\n, Yuri Vladimirovich Andropov[a] (15 June [...</td>\n    </tr>\n    <tr>\n      <th>https://en.wikipedia.org/wiki/Zhou_Enlai</th>\n      <td>Zhou Enlai</td>\n      <td>[https://en.wikipedia.org/wiki/Simplified_Chin...</td>\n      <td>[\\n, Zhou Enlai (Chinese: 周恩来; pinyin: Zhōu Ēn...</td>\n    </tr>\n  </tbody>\n</table>\n<p>857 rows × 3 columns</p>\n</div>"
     },
     "execution_count": 10,
     "metadata": {},
     "output_type": "execute_result"
    }
   ],
   "source": [
    "df_wikipedia_english_fromCSV"
   ],
   "metadata": {
    "collapsed": false,
    "pycharm": {
     "name": "#%%\n"
    }
   }
  },
  {
   "cell_type": "code",
   "execution_count": 11,
   "outputs": [
    {
     "data": {
      "text/plain": "                                                                           TITLE  \\\nURL                                                                                \nhttps://de.wikipedia.org/wiki/Kalter_Krieg                          Kalter Krieg   \nhttps://en.wikipedia.org/wiki/%C3%84gypten                               Ägypten   \nhttps://en.wikipedia.org/wiki/%C3%84ra                                       Ära   \nhttps://en.wikipedia.org/wiki/%C3%96sterreich                            Austria   \nhttps://en.wikipedia.org/wiki/%C3%96sterreichis...   Österreichische Neutralität   \n...                                                                          ...   \nhttps://en.wikipedia.org/wiki/Zentralverwaltung...  Zentralverwaltungswirtschaft   \nhttps://en.wikipedia.org/wiki/Zerfall_der_Sowje...       Zerfall der Sowjetunion   \nhttps://en.wikipedia.org/wiki/Zivilperson                            Zivilperson   \nhttps://en.wikipedia.org/wiki/Zweite_Polnische_...     Zweite Polnische Republik   \nhttps://en.wikipedia.org/wiki/Zweitschlag                            Zweitschlag   \n\n                                                                                      LIST_REFERENCES  \\\nURL                                                                                                     \nhttps://de.wikipedia.org/wiki/Kalter_Krieg          [https://en.wikipedia.org/wiki/Westm%C3%A4chte...   \nhttps://en.wikipedia.org/wiki/%C3%84gypten                                                         []   \nhttps://en.wikipedia.org/wiki/%C3%84ra                                                             []   \nhttps://en.wikipedia.org/wiki/%C3%96sterreich       [https://en.wikipedia.org/wiki/Geographic_coor...   \nhttps://en.wikipedia.org/wiki/%C3%96sterreichis...                                                 []   \n...                                                                                               ...   \nhttps://en.wikipedia.org/wiki/Zentralverwaltung...                                                 []   \nhttps://en.wikipedia.org/wiki/Zerfall_der_Sowje...                                                 []   \nhttps://en.wikipedia.org/wiki/Zivilperson                                                          []   \nhttps://en.wikipedia.org/wiki/Zweite_Polnische_...                                                 []   \nhttps://en.wikipedia.org/wiki/Zweitschlag                                                          []   \n\n                                                                                 LIST_PARAGRAPH_TEXTS  \nURL                                                                                                    \nhttps://de.wikipedia.org/wiki/Kalter_Krieg          [Als der Kalte Krieg wird der Konflikt zwische...  \nhttps://en.wikipedia.org/wiki/%C3%84gypten           [Other reasons this message may be displayed:\\n]  \nhttps://en.wikipedia.org/wiki/%C3%84ra               [Other reasons this message may be displayed:\\n]  \nhttps://en.wikipedia.org/wiki/%C3%96sterreich       [\\nCoordinates: 47°20′N 13°20′E﻿ / ﻿47.333°N 1...  \nhttps://en.wikipedia.org/wiki/%C3%96sterreichis...   [Other reasons this message may be displayed:\\n]  \n...                                                                                               ...  \nhttps://en.wikipedia.org/wiki/Zentralverwaltung...   [Other reasons this message may be displayed:\\n]  \nhttps://en.wikipedia.org/wiki/Zerfall_der_Sowje...   [Other reasons this message may be displayed:\\n]  \nhttps://en.wikipedia.org/wiki/Zivilperson            [Other reasons this message may be displayed:\\n]  \nhttps://en.wikipedia.org/wiki/Zweite_Polnische_...   [Other reasons this message may be displayed:\\n]  \nhttps://en.wikipedia.org/wiki/Zweitschlag            [Other reasons this message may be displayed:\\n]  \n\n[435 rows x 3 columns]",
      "text/html": "<div>\n<style scoped>\n    .dataframe tbody tr th:only-of-type {\n        vertical-align: middle;\n    }\n\n    .dataframe tbody tr th {\n        vertical-align: top;\n    }\n\n    .dataframe thead th {\n        text-align: right;\n    }\n</style>\n<table border=\"1\" class=\"dataframe\">\n  <thead>\n    <tr style=\"text-align: right;\">\n      <th></th>\n      <th>TITLE</th>\n      <th>LIST_REFERENCES</th>\n      <th>LIST_PARAGRAPH_TEXTS</th>\n    </tr>\n    <tr>\n      <th>URL</th>\n      <th></th>\n      <th></th>\n      <th></th>\n    </tr>\n  </thead>\n  <tbody>\n    <tr>\n      <th>https://de.wikipedia.org/wiki/Kalter_Krieg</th>\n      <td>Kalter Krieg</td>\n      <td>[https://en.wikipedia.org/wiki/Westm%C3%A4chte...</td>\n      <td>[Als der Kalte Krieg wird der Konflikt zwische...</td>\n    </tr>\n    <tr>\n      <th>https://en.wikipedia.org/wiki/%C3%84gypten</th>\n      <td>Ägypten</td>\n      <td>[]</td>\n      <td>[Other reasons this message may be displayed:\\n]</td>\n    </tr>\n    <tr>\n      <th>https://en.wikipedia.org/wiki/%C3%84ra</th>\n      <td>Ära</td>\n      <td>[]</td>\n      <td>[Other reasons this message may be displayed:\\n]</td>\n    </tr>\n    <tr>\n      <th>https://en.wikipedia.org/wiki/%C3%96sterreich</th>\n      <td>Austria</td>\n      <td>[https://en.wikipedia.org/wiki/Geographic_coor...</td>\n      <td>[\\nCoordinates: 47°20′N 13°20′E﻿ / ﻿47.333°N 1...</td>\n    </tr>\n    <tr>\n      <th>https://en.wikipedia.org/wiki/%C3%96sterreichische_Neutralit%C3%A4t</th>\n      <td>Österreichische Neutralität</td>\n      <td>[]</td>\n      <td>[Other reasons this message may be displayed:\\n]</td>\n    </tr>\n    <tr>\n      <th>...</th>\n      <td>...</td>\n      <td>...</td>\n      <td>...</td>\n    </tr>\n    <tr>\n      <th>https://en.wikipedia.org/wiki/Zentralverwaltungswirtschaft</th>\n      <td>Zentralverwaltungswirtschaft</td>\n      <td>[]</td>\n      <td>[Other reasons this message may be displayed:\\n]</td>\n    </tr>\n    <tr>\n      <th>https://en.wikipedia.org/wiki/Zerfall_der_Sowjetunion</th>\n      <td>Zerfall der Sowjetunion</td>\n      <td>[]</td>\n      <td>[Other reasons this message may be displayed:\\n]</td>\n    </tr>\n    <tr>\n      <th>https://en.wikipedia.org/wiki/Zivilperson</th>\n      <td>Zivilperson</td>\n      <td>[]</td>\n      <td>[Other reasons this message may be displayed:\\n]</td>\n    </tr>\n    <tr>\n      <th>https://en.wikipedia.org/wiki/Zweite_Polnische_Republik</th>\n      <td>Zweite Polnische Republik</td>\n      <td>[]</td>\n      <td>[Other reasons this message may be displayed:\\n]</td>\n    </tr>\n    <tr>\n      <th>https://en.wikipedia.org/wiki/Zweitschlag</th>\n      <td>Zweitschlag</td>\n      <td>[]</td>\n      <td>[Other reasons this message may be displayed:\\n]</td>\n    </tr>\n  </tbody>\n</table>\n<p>435 rows × 3 columns</p>\n</div>"
     },
     "execution_count": 11,
     "metadata": {},
     "output_type": "execute_result"
    }
   ],
   "source": [
    "df_wikipedia_german_fromCSV"
   ],
   "metadata": {
    "collapsed": false,
    "pycharm": {
     "name": "#%%\n"
    }
   }
  },
  {
   "cell_type": "code",
   "execution_count": 11,
   "outputs": [],
   "source": [],
   "metadata": {
    "collapsed": false,
    "pycharm": {
     "name": "#%%\n"
    }
   }
  }
 ],
 "metadata": {
  "kernelspec": {
   "display_name": "Python 3",
   "language": "python",
   "name": "python3"
  },
  "language_info": {
   "codemirror_mode": {
    "name": "ipython",
    "version": 2
   },
   "file_extension": ".py",
   "mimetype": "text/x-python",
   "name": "python",
   "nbconvert_exporter": "python",
   "pygments_lexer": "ipython2",
   "version": "2.7.6"
  }
 },
 "nbformat": 4,
 "nbformat_minor": 0
}